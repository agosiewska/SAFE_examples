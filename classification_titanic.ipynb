{
 "cells": [
  {
   "cell_type": "code",
   "execution_count": 31,
   "metadata": {},
   "outputs": [],
   "source": [
    "from SafeTransformer import SafeTransformer\n",
    "from sklearn.base import BaseEstimator, TransformerMixin\n",
    "\n",
    "import numpy as np\n",
    "import pandas as pd\n",
    "\n",
    "from sklearn.ensemble import GradientBoostingClassifier\n",
    "from sklearn.linear_model import LogisticRegression\n",
    "from sklearn.tree import DecisionTreeClassifier\n",
    "\n",
    "from sklearn.preprocessing import OneHotEncoder\n",
    "from sklearn.pipeline import make_pipeline, FeatureUnion, Pipeline\n",
    "from sklearn.impute import SimpleImputer\n",
    "\n",
    "from sklearn.model_selection import train_test_split\n",
    "from sklearn.metrics import accuracy_score\n",
    "from sklearn import metrics\n",
    "\n",
    "import matplotlib.pyplot as plt\n",
    "\n",
    "from copy import deepcopy"
   ]
  },
  {
   "cell_type": "code",
   "execution_count": 2,
   "metadata": {},
   "outputs": [],
   "source": [
    "titanic = pd.read_csv(\"titanic_train.csv\")\n",
    "y = titanic[\"Survived\"]\n",
    "X = titanic.drop([\"PassengerId\", \"Survived\", \"Name\", \"Ticket\"], axis=1)\n",
    "\n",
    "X[\"Embarked\"] = X[\"Embarked\"].astype('category')\n",
    "X[\"Cabin\"] = X[\"Cabin\"].fillna(\"unknown\")\n",
    "X[\"Cabin\"] = X[\"Cabin\"].astype('category')\n",
    "X[\"Sex\"] = X[\"Sex\"].astype('category')"
   ]
  },
  {
   "cell_type": "markdown",
   "metadata": {},
   "source": [
    "# Filling NaNs"
   ]
  },
  {
   "cell_type": "code",
   "execution_count": 3,
   "metadata": {},
   "outputs": [],
   "source": [
    "class TypeSelector(BaseEstimator, TransformerMixin):\n",
    "    def __init__(self, dtype):\n",
    "        self.dtype = dtype\n",
    "    def fit(self, X, y=None):\n",
    "        return self\n",
    "    def transform(self, X):\n",
    "        assert isinstance(X, pd.DataFrame)\n",
    "        return X.select_dtypes(include=[self.dtype])"
   ]
  },
  {
   "cell_type": "code",
   "execution_count": 4,
   "metadata": {},
   "outputs": [],
   "source": [
    "fill_NaN_pipeline = make_pipeline(\n",
    "    FeatureUnion(transformer_list=[\n",
    "        (\"numeric_features\", make_pipeline(\n",
    "            TypeSelector(np.number),\n",
    "            SimpleImputer(strategy=\"median\"),\n",
    "        )),\n",
    "        (\"categorical_features\", make_pipeline(\n",
    "            TypeSelector(\"category\"),\n",
    "            SimpleImputer(strategy=\"most_frequent\"),\n",
    "        ))\n",
    "    ])\n",
    ")"
   ]
  },
  {
   "cell_type": "code",
   "execution_count": 5,
   "metadata": {},
   "outputs": [
    {
     "data": {
      "text/html": [
       "<div>\n",
       "<style scoped>\n",
       "    .dataframe tbody tr th:only-of-type {\n",
       "        vertical-align: middle;\n",
       "    }\n",
       "\n",
       "    .dataframe tbody tr th {\n",
       "        vertical-align: top;\n",
       "    }\n",
       "\n",
       "    .dataframe thead th {\n",
       "        text-align: right;\n",
       "    }\n",
       "</style>\n",
       "<table border=\"1\" class=\"dataframe\">\n",
       "  <thead>\n",
       "    <tr style=\"text-align: right;\">\n",
       "      <th></th>\n",
       "      <th>Pclass</th>\n",
       "      <th>Age</th>\n",
       "      <th>SibSp</th>\n",
       "      <th>Parch</th>\n",
       "      <th>Fare</th>\n",
       "      <th>Sex</th>\n",
       "      <th>Cabin</th>\n",
       "      <th>Embarked</th>\n",
       "    </tr>\n",
       "  </thead>\n",
       "  <tbody>\n",
       "    <tr>\n",
       "      <th>0</th>\n",
       "      <td>3</td>\n",
       "      <td>22</td>\n",
       "      <td>1</td>\n",
       "      <td>0</td>\n",
       "      <td>7.25</td>\n",
       "      <td>male</td>\n",
       "      <td>unknown</td>\n",
       "      <td>S</td>\n",
       "    </tr>\n",
       "    <tr>\n",
       "      <th>1</th>\n",
       "      <td>1</td>\n",
       "      <td>38</td>\n",
       "      <td>1</td>\n",
       "      <td>0</td>\n",
       "      <td>71.2833</td>\n",
       "      <td>female</td>\n",
       "      <td>C85</td>\n",
       "      <td>C</td>\n",
       "    </tr>\n",
       "    <tr>\n",
       "      <th>2</th>\n",
       "      <td>3</td>\n",
       "      <td>26</td>\n",
       "      <td>0</td>\n",
       "      <td>0</td>\n",
       "      <td>7.925</td>\n",
       "      <td>female</td>\n",
       "      <td>unknown</td>\n",
       "      <td>S</td>\n",
       "    </tr>\n",
       "    <tr>\n",
       "      <th>3</th>\n",
       "      <td>1</td>\n",
       "      <td>35</td>\n",
       "      <td>1</td>\n",
       "      <td>0</td>\n",
       "      <td>53.1</td>\n",
       "      <td>female</td>\n",
       "      <td>C123</td>\n",
       "      <td>S</td>\n",
       "    </tr>\n",
       "    <tr>\n",
       "      <th>4</th>\n",
       "      <td>3</td>\n",
       "      <td>35</td>\n",
       "      <td>0</td>\n",
       "      <td>0</td>\n",
       "      <td>8.05</td>\n",
       "      <td>male</td>\n",
       "      <td>unknown</td>\n",
       "      <td>S</td>\n",
       "    </tr>\n",
       "  </tbody>\n",
       "</table>\n",
       "</div>"
      ],
      "text/plain": [
       "  Pclass Age SibSp Parch     Fare     Sex    Cabin Embarked\n",
       "0      3  22     1     0     7.25    male  unknown        S\n",
       "1      1  38     1     0  71.2833  female      C85        C\n",
       "2      3  26     0     0    7.925  female  unknown        S\n",
       "3      1  35     1     0     53.1  female     C123        S\n",
       "4      3  35     0     0     8.05    male  unknown        S"
      ]
     },
     "execution_count": 5,
     "metadata": {},
     "output_type": "execute_result"
    }
   ],
   "source": [
    "X_filled = fill_NaN_pipeline.fit_transform(X)\n",
    "ts_category = TypeSelector(\"category\")\n",
    "colnames_category = ts_category.fit_transform(X).columns\n",
    "ts_numeric = TypeSelector(np.number)\n",
    "colnames_numeric = ts_numeric.fit_transform(X).columns\n",
    "colnames = colnames_numeric.append(colnames_category)\n",
    "X_filled = pd.DataFrame(X_filled, columns=colnames)\n",
    "X_filled.head()"
   ]
  },
  {
   "cell_type": "code",
   "execution_count": 6,
   "metadata": {},
   "outputs": [
    {
     "data": {
      "text/plain": [
       "Pclass         int64\n",
       "Age          float64\n",
       "SibSp          int64\n",
       "Parch          int64\n",
       "Fare         float64\n",
       "Sex         category\n",
       "Cabin       category\n",
       "Embarked    category\n",
       "dtype: object"
      ]
     },
     "execution_count": 6,
     "metadata": {},
     "output_type": "execute_result"
    }
   ],
   "source": [
    "for col in X.columns:\n",
    "    X_filled[col] = X_filled[col].astype(X[col].dtype)\n",
    "X_filled.dtypes"
   ]
  },
  {
   "cell_type": "markdown",
   "metadata": {},
   "source": [
    "# Data set with dummy variables and splits"
   ]
  },
  {
   "cell_type": "code",
   "execution_count": 7,
   "metadata": {},
   "outputs": [],
   "source": [
    "X_dummy = X_filled.copy()\n",
    "colnames = list(X_dummy)\n",
    "for idx, name in enumerate(colnames):\n",
    "    if str(X_dummy.loc[:, name].dtype) in ['category', 'object']:\n",
    "        dummies = pd.get_dummies(X_dummy.loc[:, name], prefix=name, drop_first=True)\n",
    "        dummy_index  = X_dummy.columns.get_loc(name)\n",
    "        X_dummy = pd.concat([X_dummy.iloc[:,range(dummy_index)], dummies, X_dummy.iloc[:, range(dummy_index+1, len(X_dummy.columns))]], axis=1)"
   ]
  },
  {
   "cell_type": "code",
   "execution_count": 8,
   "metadata": {},
   "outputs": [],
   "source": [
    "X_train, X_test, X_lin_train, X_lin_test, y_train, y_test = train_test_split(X_filled, X_dummy, y, random_state = 123)"
   ]
  },
  {
   "cell_type": "markdown",
   "metadata": {},
   "source": [
    "# SAFE - logistic regression"
   ]
  },
  {
   "cell_type": "markdown",
   "metadata": {},
   "source": [
    "logistic regression"
   ]
  },
  {
   "cell_type": "code",
   "execution_count": 14,
   "metadata": {},
   "outputs": [
    {
     "name": "stdout",
     "output_type": "stream",
     "text": [
      "0.7982062780269058\n"
     ]
    },
    {
     "data": {
      "text/plain": [
       "0.861125385405961"
      ]
     },
     "execution_count": 14,
     "metadata": {},
     "output_type": "execute_result"
    }
   ],
   "source": [
    "logistic_model = LogisticRegression(solver='liblinear')\n",
    "logistic_model = logistic_model.fit(X_lin_train, y_train)\n",
    "standard_predictions = logistic_model.predict(X_lin_test)\n",
    "print(accuracy_score(y_test, standard_predictions))\n",
    "\n",
    "pred = logistic_model.predict_proba(X_lin_test)[:,1]\n",
    "fpr, tpr, thresholds = metrics.roc_curve(y_test, pred, pos_label=1)\n",
    "metrics.auc(fpr, tpr)"
   ]
  },
  {
   "cell_type": "markdown",
   "metadata": {},
   "source": [
    "surrogate model"
   ]
  },
  {
   "cell_type": "code",
   "execution_count": 33,
   "metadata": {},
   "outputs": [
    {
     "name": "stdout",
     "output_type": "stream",
     "text": [
      "0.8340807174887892\n"
     ]
    },
    {
     "data": {
      "text/plain": [
       "0.896454265159301"
      ]
     },
     "execution_count": 33,
     "metadata": {},
     "output_type": "execute_result"
    }
   ],
   "source": [
    "surrogate_model = GradientBoostingClassifier(random_state = 123)\n",
    "surrogate_model = surrogate_model.fit(X_lin_train, y_train)\n",
    "surrogate_model_predictions = surrogate_model.predict(X_lin_test)\n",
    "print(accuracy_score(y_test, surrogate_model_predictions))\n",
    "\n",
    "pred = surrogate_model.predict_proba(X_lin_test)[:,1]\n",
    "fpr, tpr, thresholds = metrics.roc_curve(y_test, pred, pos_label=1)\n",
    "metrics.auc(fpr, tpr)"
   ]
  },
  {
   "cell_type": "markdown",
   "metadata": {},
   "source": [
    "white-box model (logistic regression)"
   ]
  },
  {
   "cell_type": "code",
   "execution_count": 34,
   "metadata": {},
   "outputs": [
    {
     "name": "stdout",
     "output_type": "stream",
     "text": [
      "[0.01, 0.820627802690583, 0.8775693730729701]\n",
      "[0.42625, 0.8251121076233184, 0.8755566974991436]\n",
      "[0.8425, 0.8295964125560538, 0.8738009592326138]\n",
      "[1.25875, 0.8340807174887892, 0.8761990407673861]\n",
      "[1.675, 0.8385650224215246, 0.8753425830763959]\n",
      "[2.0912499999999996, 0.8385650224215246, 0.8753425830763959]\n",
      "[2.5075, 0.8385650224215246, 0.8753425830763959]\n",
      "[2.92375, 0.8251121076233184, 0.8734583761562179]\n",
      "[3.34, 0.8251121076233184, 0.8734583761562179]\n",
      "[3.7562499999999996, 0.8251121076233184, 0.8734583761562179]\n",
      "[4.172499999999999, 0.8251121076233184, 0.8734583761562179]\n",
      "[4.58875, 0.8116591928251121, 0.8696899623158616]\n",
      "[5.005, 0.8116591928251121, 0.8696899623158616]\n",
      "[5.42125, 0.8116591928251121, 0.8696899623158616]\n",
      "[5.8375, 0.8116591928251121, 0.8696899623158616]\n",
      "[6.25375, 0.8116591928251121, 0.8696899623158616]\n",
      "[6.67, 0.8116591928251121, 0.8696899623158616]\n",
      "[7.08625, 0.8116591928251121, 0.8696899623158616]\n",
      "[7.5024999999999995, 0.8116591928251121, 0.8696899623158616]\n",
      "[7.91875, 0.8116591928251121, 0.8696899623158616]\n",
      "[8.334999999999999, 0.8116591928251121, 0.8696899623158616]\n",
      "[8.75125, 0.8071748878923767, 0.8579993148338473]\n",
      "[9.1675, 0.8071748878923767, 0.8579993148338473]\n",
      "[9.58375, 0.8071748878923767, 0.8579993148338473]\n",
      "[10.0, 0.8071748878923767, 0.8579993148338473]\n"
     ]
    }
   ],
   "source": [
    "pens = np.linspace(0.01, 10, 25)\n",
    "best_auc = float('-Inf')\n",
    "best_acc = float('-Inf')\n",
    "best_auc_pen = 0\n",
    "best_acc_pen = 0\n",
    "aucs = []\n",
    "accs = []\n",
    "\n",
    "for pen in pens:\n",
    "    surrogate_model =  GradientBoostingClassifier(random_state = 123)\n",
    "    logistic_model_simple = LogisticRegression(solver = 'lbfgs')\n",
    "    safe_transformer = SafeTransformer(surrogate_model, penalty = pen)\n",
    "    pipe = Pipeline(steps=[('safe', safe_transformer), ('linear', logistic_model_simple)])\n",
    "    pipe = pipe.fit(X_train, y_train)\n",
    "    predictions = pipe.predict(X_test)\n",
    "    acc = accuracy_score(y_test, predictions)\n",
    "    accs.append(acc)\n",
    "    \n",
    "    pred = pipe.predict_proba(X_test)[:,1]\n",
    "    fpr, tpr, thresholds = metrics.roc_curve(y_test, pred, pos_label=1)\n",
    "    auc = metrics.auc(fpr, tpr)\n",
    "    aucs.append(auc)\n",
    "    \n",
    "    print([pen, acc, auc])\n",
    "    if acc > best_acc:\n",
    "        best_acc_transformer = deepcopy(safe_transformer)\n",
    "        best_acc_model = deepcopy(logistic_model_simple)\n",
    "        best_acc = acc\n",
    "        best_acc_pen = pen\n",
    "        \n",
    "    if auc > best_auc:\n",
    "        best_auc_transformer = deepcopy(safe_transformer)\n",
    "        best_auc_model = deepcopy(logistic_model_simple)\n",
    "        best_auc = auc\n",
    "        best_auc_pen = pen"
   ]
  },
  {
   "cell_type": "code",
   "execution_count": 21,
   "metadata": {},
   "outputs": [
    {
     "data": {
      "text/plain": [
       "[0.8340807174887892, 0.8705464200068516]"
      ]
     },
     "execution_count": 21,
     "metadata": {},
     "output_type": "execute_result"
    }
   ],
   "source": [
    "[best_acc, best_auc]"
   ]
  },
  {
   "cell_type": "code",
   "execution_count": 22,
   "metadata": {},
   "outputs": [
    {
     "data": {
      "text/plain": [
       "[1.25875, 1.25875]"
      ]
     },
     "execution_count": 22,
     "metadata": {},
     "output_type": "execute_result"
    }
   ],
   "source": [
    "[best_acc_pen, best_auc_pen]"
   ]
  },
  {
   "cell_type": "code",
   "execution_count": null,
   "metadata": {},
   "outputs": [],
   "source": []
  },
  {
   "cell_type": "markdown",
   "metadata": {},
   "source": [
    "## SAFE - tree"
   ]
  },
  {
   "cell_type": "code",
   "execution_count": 25,
   "metadata": {},
   "outputs": [
    {
     "name": "stdout",
     "output_type": "stream",
     "text": [
      "0.7937219730941704\n"
     ]
    },
    {
     "data": {
      "text/plain": [
       "0.7767214799588901"
      ]
     },
     "execution_count": 25,
     "metadata": {},
     "output_type": "execute_result"
    }
   ],
   "source": [
    "tree_model = DecisionTreeClassifier(random_state=123)\n",
    "tree_model = tree_model.fit(X_lin_train, y_train)\n",
    "standard_predictions = tree_model.predict(X_lin_test)\n",
    "print(accuracy_score(y_test, standard_predictions))\n",
    "\n",
    "pred = tree_model.predict_proba(X_lin_test)[:,1]\n",
    "fpr, tpr, thresholds = metrics.roc_curve(y_test, pred, pos_label=1)\n",
    "metrics.auc(fpr, tpr)"
   ]
  },
  {
   "cell_type": "code",
   "execution_count": 35,
   "metadata": {},
   "outputs": [
    {
     "name": "stdout",
     "output_type": "stream",
     "text": [
      "0.8340807174887892\n"
     ]
    },
    {
     "data": {
      "text/plain": [
       "0.896454265159301"
      ]
     },
     "execution_count": 35,
     "metadata": {},
     "output_type": "execute_result"
    }
   ],
   "source": [
    "surrogate_model = GradientBoostingClassifier(random_state = 123)\n",
    "surrogate_model = surrogate_model.fit(X_lin_train, y_train)\n",
    "surrogate_model_predictions = surrogate_model.predict(X_lin_test)\n",
    "print(accuracy_score(y_test, surrogate_model_predictions))\n",
    "\n",
    "pred = surrogate_model.predict_proba(X_lin_test)[:,1]\n",
    "fpr, tpr, thresholds = metrics.roc_curve(y_test, pred, pos_label=1)\n",
    "metrics.auc(fpr, tpr)"
   ]
  },
  {
   "cell_type": "code",
   "execution_count": 36,
   "metadata": {},
   "outputs": [
    {
     "name": "stdout",
     "output_type": "stream",
     "text": [
      "[0.01, 0.820627802690583, 0.8775693730729701]\n",
      "[0.42625, 0.8251121076233184, 0.8755566974991436]\n",
      "[0.8425, 0.8295964125560538, 0.8738009592326138]\n",
      "[1.25875, 0.8340807174887892, 0.8761990407673861]\n",
      "[1.675, 0.8385650224215246, 0.8753425830763959]\n",
      "[2.0912499999999996, 0.8385650224215246, 0.8753425830763959]\n",
      "[2.5075, 0.8385650224215246, 0.8753425830763959]\n",
      "[2.92375, 0.8251121076233184, 0.8734583761562179]\n",
      "[3.34, 0.8251121076233184, 0.8734583761562179]\n",
      "[3.7562499999999996, 0.8251121076233184, 0.8734583761562179]\n",
      "[4.172499999999999, 0.8251121076233184, 0.8734583761562179]\n",
      "[4.58875, 0.8116591928251121, 0.8696899623158616]\n",
      "[5.005, 0.8116591928251121, 0.8696899623158616]\n",
      "[5.42125, 0.8116591928251121, 0.8696899623158616]\n",
      "[5.8375, 0.8116591928251121, 0.8696899623158616]\n",
      "[6.25375, 0.8116591928251121, 0.8696899623158616]\n",
      "[6.67, 0.8116591928251121, 0.8696899623158616]\n",
      "[7.08625, 0.8116591928251121, 0.8696899623158616]\n",
      "[7.5024999999999995, 0.8116591928251121, 0.8696899623158616]\n",
      "[7.91875, 0.8116591928251121, 0.8696899623158616]\n",
      "[8.334999999999999, 0.8116591928251121, 0.8696899623158616]\n",
      "[8.75125, 0.8071748878923767, 0.8579993148338473]\n",
      "[9.1675, 0.8071748878923767, 0.8579993148338473]\n",
      "[9.58375, 0.8071748878923767, 0.8579993148338473]\n",
      "[10.0, 0.8071748878923767, 0.8579993148338473]\n"
     ]
    }
   ],
   "source": [
    "pens = np.linspace(0.01, 10, 25)\n",
    "best_auc = float('-Inf')\n",
    "best_acc = float('-Inf')\n",
    "best_auc_pen = 0\n",
    "best_acc_pen = 0\n",
    "aucs = []\n",
    "accs = []\n",
    "\n",
    "for pen in pens:\n",
    "    surrogate_model = GradientBoostingClassifier(random_state = 123)\n",
    "    logistic_model_simple = LogisticRegression(solver = 'lbfgs')\n",
    "    safe_transformer = SafeTransformer(surrogate_model, penalty = pen)\n",
    "    pipe = Pipeline(steps=[('safe', safe_transformer), ('linear', logistic_model_simple)])\n",
    "    pipe = pipe.fit(X_train, y_train)\n",
    "    predictions = pipe.predict(X_test)\n",
    "    acc = accuracy_score(y_test, predictions)\n",
    "    accs.append(acc)\n",
    "    \n",
    "    pred = pipe.predict_proba(X_test)[:,1]\n",
    "    fpr, tpr, thresholds = metrics.roc_curve(y_test, pred, pos_label=1)\n",
    "    auc = metrics.auc(fpr, tpr)\n",
    "    aucs.append(auc)\n",
    "    \n",
    "    print([pen, acc, auc])\n",
    "    if acc > best_acc:\n",
    "        best_acc_transformer = deepcopy(safe_transformer)\n",
    "        best_acc_model = deepcopy(logistic_model_simple)\n",
    "        best_acc = acc\n",
    "        best_acc_pen = pen\n",
    "        \n",
    "    if auc > best_auc:\n",
    "        best_auc_transformer = deepcopy(safe_transformer)\n",
    "        best_auc_model = deepcopy(logistic_model_simple)\n",
    "        best_auc = auc\n",
    "        best_auc_pen = pen"
   ]
  },
  {
   "cell_type": "code",
   "execution_count": 37,
   "metadata": {},
   "outputs": [
    {
     "data": {
      "text/plain": [
       "[0.8385650224215246, 0.8775693730729701]"
      ]
     },
     "execution_count": 37,
     "metadata": {},
     "output_type": "execute_result"
    }
   ],
   "source": [
    "[best_acc, best_auc]"
   ]
  },
  {
   "cell_type": "code",
   "execution_count": null,
   "metadata": {},
   "outputs": [],
   "source": []
  }
 ],
 "metadata": {
  "kernelspec": {
   "display_name": "Python 3",
   "language": "python",
   "name": "python3"
  },
  "language_info": {
   "codemirror_mode": {
    "name": "ipython",
    "version": 3
   },
   "file_extension": ".py",
   "mimetype": "text/x-python",
   "name": "python",
   "nbconvert_exporter": "python",
   "pygments_lexer": "ipython3",
   "version": "3.7.1"
  }
 },
 "nbformat": 4,
 "nbformat_minor": 2
}
