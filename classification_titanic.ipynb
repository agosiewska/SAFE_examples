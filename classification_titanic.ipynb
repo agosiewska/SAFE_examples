{
 "cells": [
  {
   "cell_type": "code",
   "execution_count": 25,
   "metadata": {},
   "outputs": [],
   "source": [
    "from SafeTransformer import SafeTransformer\n",
    "from sklearn.base import BaseEstimator, TransformerMixin\n",
    "\n",
    "import numpy as np\n",
    "import pandas as pd\n",
    "\n",
    "from xgboost import XGBClassifier\n",
    "from sklearn.linear_model import LogisticRegression\n",
    "\n",
    "from sklearn.preprocessing import OneHotEncoder\n",
    "from sklearn.pipeline import make_pipeline, FeatureUnion, Pipeline\n",
    "from sklearn.impute import SimpleImputer\n",
    "\n",
    "from sklearn.model_selection import train_test_split\n",
    "from sklearn.metrics import accuracy_score\n",
    "from sklearn.metrics import mean_squared_error\n",
    "\n",
    "import matplotlib.pyplot as plt\n",
    "\n",
    "from copy import deepcopy"
   ]
  },
  {
   "cell_type": "code",
   "execution_count": 5,
   "metadata": {},
   "outputs": [],
   "source": [
    "titanic = pd.read_csv(\"titanic_train.csv\")\n",
    "y = titanic[\"Survived\"]\n",
    "X = titanic.drop([\"PassengerId\", \"Survived\", \"Name\", \"Ticket\"], axis=1)\n",
    "\n",
    "X[\"Embarked\"] = X[\"Embarked\"].astype('category')\n",
    "X[\"Cabin\"] = X[\"Cabin\"].fillna(\"unknown\")\n",
    "X[\"Cabin\"] = X[\"Cabin\"].astype('category')\n",
    "X[\"Sex\"] = X[\"Sex\"].astype('category')"
   ]
  },
  {
   "cell_type": "markdown",
   "metadata": {},
   "source": [
    "# Filling NaNs"
   ]
  },
  {
   "cell_type": "code",
   "execution_count": 9,
   "metadata": {},
   "outputs": [],
   "source": [
    "class TypeSelector(BaseEstimator, TransformerMixin):\n",
    "    def __init__(self, dtype):\n",
    "        self.dtype = dtype\n",
    "    def fit(self, X, y=None):\n",
    "        return self\n",
    "    def transform(self, X):\n",
    "        assert isinstance(X, pd.DataFrame)\n",
    "        return X.select_dtypes(include=[self.dtype])"
   ]
  },
  {
   "cell_type": "code",
   "execution_count": 10,
   "metadata": {},
   "outputs": [],
   "source": [
    "fill_NaN_pipeline = make_pipeline(\n",
    "    FeatureUnion(transformer_list=[\n",
    "        (\"numeric_features\", make_pipeline(\n",
    "            TypeSelector(np.number),\n",
    "            SimpleImputer(strategy=\"median\"),\n",
    "        )),\n",
    "        (\"categorical_features\", make_pipeline(\n",
    "            TypeSelector(\"category\"),\n",
    "            SimpleImputer(strategy=\"most_frequent\"),\n",
    "        ))\n",
    "    ])\n",
    ")"
   ]
  },
  {
   "cell_type": "code",
   "execution_count": 13,
   "metadata": {},
   "outputs": [
    {
     "data": {
      "text/html": [
       "<div>\n",
       "<style scoped>\n",
       "    .dataframe tbody tr th:only-of-type {\n",
       "        vertical-align: middle;\n",
       "    }\n",
       "\n",
       "    .dataframe tbody tr th {\n",
       "        vertical-align: top;\n",
       "    }\n",
       "\n",
       "    .dataframe thead th {\n",
       "        text-align: right;\n",
       "    }\n",
       "</style>\n",
       "<table border=\"1\" class=\"dataframe\">\n",
       "  <thead>\n",
       "    <tr style=\"text-align: right;\">\n",
       "      <th></th>\n",
       "      <th>Pclass</th>\n",
       "      <th>Age</th>\n",
       "      <th>SibSp</th>\n",
       "      <th>Parch</th>\n",
       "      <th>Fare</th>\n",
       "      <th>Sex</th>\n",
       "      <th>Cabin</th>\n",
       "      <th>Embarked</th>\n",
       "    </tr>\n",
       "  </thead>\n",
       "  <tbody>\n",
       "    <tr>\n",
       "      <th>0</th>\n",
       "      <td>3</td>\n",
       "      <td>22</td>\n",
       "      <td>1</td>\n",
       "      <td>0</td>\n",
       "      <td>7.25</td>\n",
       "      <td>male</td>\n",
       "      <td>unknown</td>\n",
       "      <td>S</td>\n",
       "    </tr>\n",
       "    <tr>\n",
       "      <th>1</th>\n",
       "      <td>1</td>\n",
       "      <td>38</td>\n",
       "      <td>1</td>\n",
       "      <td>0</td>\n",
       "      <td>71.2833</td>\n",
       "      <td>female</td>\n",
       "      <td>C85</td>\n",
       "      <td>C</td>\n",
       "    </tr>\n",
       "    <tr>\n",
       "      <th>2</th>\n",
       "      <td>3</td>\n",
       "      <td>26</td>\n",
       "      <td>0</td>\n",
       "      <td>0</td>\n",
       "      <td>7.925</td>\n",
       "      <td>female</td>\n",
       "      <td>unknown</td>\n",
       "      <td>S</td>\n",
       "    </tr>\n",
       "    <tr>\n",
       "      <th>3</th>\n",
       "      <td>1</td>\n",
       "      <td>35</td>\n",
       "      <td>1</td>\n",
       "      <td>0</td>\n",
       "      <td>53.1</td>\n",
       "      <td>female</td>\n",
       "      <td>C123</td>\n",
       "      <td>S</td>\n",
       "    </tr>\n",
       "    <tr>\n",
       "      <th>4</th>\n",
       "      <td>3</td>\n",
       "      <td>35</td>\n",
       "      <td>0</td>\n",
       "      <td>0</td>\n",
       "      <td>8.05</td>\n",
       "      <td>male</td>\n",
       "      <td>unknown</td>\n",
       "      <td>S</td>\n",
       "    </tr>\n",
       "  </tbody>\n",
       "</table>\n",
       "</div>"
      ],
      "text/plain": [
       "  Pclass Age SibSp Parch     Fare     Sex    Cabin Embarked\n",
       "0      3  22     1     0     7.25    male  unknown        S\n",
       "1      1  38     1     0  71.2833  female      C85        C\n",
       "2      3  26     0     0    7.925  female  unknown        S\n",
       "3      1  35     1     0     53.1  female     C123        S\n",
       "4      3  35     0     0     8.05    male  unknown        S"
      ]
     },
     "execution_count": 13,
     "metadata": {},
     "output_type": "execute_result"
    }
   ],
   "source": [
    "X_filled = fill_NaN_pipeline.fit_transform(X)\n",
    "ts_category = TypeSelector(\"category\")\n",
    "colnames_category = ts_category.fit_transform(X).columns\n",
    "ts_numeric = TypeSelector(np.number)\n",
    "colnames_numeric = ts_numeric.fit_transform(X).columns\n",
    "colnames = colnames_numeric.append(colnames_category)\n",
    "X_filled = pd.DataFrame(X_filled, columns=colnames)\n",
    "X_filled.head()"
   ]
  },
  {
   "cell_type": "code",
   "execution_count": 14,
   "metadata": {},
   "outputs": [
    {
     "data": {
      "text/plain": [
       "Pclass         int64\n",
       "Age          float64\n",
       "SibSp          int64\n",
       "Parch          int64\n",
       "Fare         float64\n",
       "Sex         category\n",
       "Cabin       category\n",
       "Embarked    category\n",
       "dtype: object"
      ]
     },
     "execution_count": 14,
     "metadata": {},
     "output_type": "execute_result"
    }
   ],
   "source": [
    "for col in X.columns:\n",
    "    X_filled[col] = X_filled[col].astype(X[col].dtype)\n",
    "X_filled.dtypes"
   ]
  },
  {
   "cell_type": "markdown",
   "metadata": {},
   "source": [
    "# Data set with dummy variables and splits"
   ]
  },
  {
   "cell_type": "code",
   "execution_count": 15,
   "metadata": {},
   "outputs": [],
   "source": [
    "X_dummy = X_filled.copy()\n",
    "colnames = list(X_dummy)\n",
    "for idx, name in enumerate(colnames):\n",
    "    if str(X_dummy.loc[:, name].dtype) in ['category', 'object']:\n",
    "        dummies = pd.get_dummies(X_dummy.loc[:, name], prefix=name, drop_first=True)\n",
    "        dummy_index  = X_dummy.columns.get_loc(name)\n",
    "        X_dummy = pd.concat([X_dummy.iloc[:,range(dummy_index)], dummies, X_dummy.iloc[:, range(dummy_index+1, len(X_dummy.columns))]], axis=1)"
   ]
  },
  {
   "cell_type": "code",
   "execution_count": 16,
   "metadata": {},
   "outputs": [],
   "source": [
    "X_train, X_test, X_lin_train, X_lin_test, y_train, y_test = train_test_split(X_filled, X_dummy, y, random_state = 123)"
   ]
  },
  {
   "cell_type": "markdown",
   "metadata": {},
   "source": [
    "# SAFE"
   ]
  },
  {
   "cell_type": "markdown",
   "metadata": {},
   "source": [
    "logistic regression"
   ]
  },
  {
   "cell_type": "code",
   "execution_count": 22,
   "metadata": {},
   "outputs": [
    {
     "name": "stdout",
     "output_type": "stream",
     "text": [
      "0.7982062780269058\n"
     ]
    }
   ],
   "source": [
    "logistic_model = LogisticRegression(solver='liblinear')\n",
    "logistic_model = logistic_model.fit(X_lin_train, y_train)\n",
    "standard_predictions = logistic_model.predict(X_lin_test)\n",
    "print(accuracy_score(y_test, standard_predictions))"
   ]
  },
  {
   "cell_type": "markdown",
   "metadata": {},
   "source": [
    "surrogate model"
   ]
  },
  {
   "cell_type": "code",
   "execution_count": 19,
   "metadata": {},
   "outputs": [
    {
     "name": "stdout",
     "output_type": "stream",
     "text": [
      "0.8475336322869955\n"
     ]
    }
   ],
   "source": [
    "surrogate_model = XGBClassifier(eval_metric = 'auc', random_state = 123,\n",
    "                               subsample = 0.8, n_estimators = 200, min_child_weight = 3, \n",
    "                                max_depth = 6, learning_rate = 0.4, reg_lambda = 0.8, \n",
    "                                gamma = 1.5, colsample_bytree = 0.8)\n",
    "surrogate_model = surrogate_model.fit(X_lin_train, y_train)\n",
    "surrogate_model_predictions = surrogate_model.predict(X_lin_test)\n",
    "print(accuracy_score(y_test, surrogate_model_predictions))"
   ]
  },
  {
   "cell_type": "markdown",
   "metadata": {},
   "source": [
    "white-box model (logistic regression)"
   ]
  },
  {
   "cell_type": "code",
   "execution_count": 23,
   "metadata": {},
   "outputs": [
    {
     "name": "stdout",
     "output_type": "stream",
     "text": [
      "[1, 0.8251121076233184]\n",
      "[2, 0.820627802690583]\n",
      "[3, 0.820627802690583]\n",
      "[4, 0.8071748878923767]\n",
      "[5, 0.8026905829596412]\n",
      "[6, 0.8026905829596412]\n",
      "[7, 0.8026905829596412]\n",
      "[8, 0.8026905829596412]\n",
      "[9, 0.8026905829596412]\n"
     ]
    }
   ],
   "source": [
    "pens = range(1, 10)\n",
    "best_score = float('-Inf')\n",
    "best_pen = 0\n",
    "aucs = []\n",
    "\n",
    "for pen in pens:\n",
    "    surrogate_model = XGBClassifier(eval_metric = 'auc', random_state = 123,\n",
    "                               subsample = 0.8, n_estimators = 200, min_child_weight = 3, \n",
    "                                max_depth = 6, learning_rate = 0.4, reg_lambda = 0.8, \n",
    "                                gamma = 1.5, colsample_bytree = 0.8)\n",
    "    logistic_model_simple = LogisticRegression(solver='liblinear')\n",
    "    safe_transformer = SafeTransformer(surrogate_model, penalty = pen)\n",
    "    pipe = Pipeline(steps=[('safe', safe_transformer), ('linear', logistic_model_simple)])\n",
    "    pipe = pipe.fit(X_train, y_train)\n",
    "    predictions = pipe.predict(X_test)\n",
    "    auc = accuracy_score(y_test, predictions)\n",
    "    aucs.append(auc)\n",
    "    print([pen,auc])\n",
    "    if auc > best_score:\n",
    "        best_transformer = deepcopy(safe_transformer)\n",
    "        best_model = deepcopy(logistic_model_simple)\n",
    "        best_score = auc\n",
    "        best_pen = pen"
   ]
  },
  {
   "cell_type": "code",
   "execution_count": 24,
   "metadata": {},
   "outputs": [
    {
     "data": {
      "text/plain": [
       "0.8251121076233184"
      ]
     },
     "execution_count": 24,
     "metadata": {},
     "output_type": "execute_result"
    }
   ],
   "source": [
    "best_score"
   ]
  },
  {
   "cell_type": "markdown",
   "metadata": {},
   "source": [
    "## Plot"
   ]
  },
  {
   "cell_type": "code",
   "execution_count": 26,
   "metadata": {},
   "outputs": [
    {
     "data": {
      "image/png": "[encoded data removed]",
      "text/plain": [
       "<Figure size 864x576 with 1 Axes>"
      ]
     },
     "metadata": {
      "needs_background": "light"
     },
     "output_type": "display_data"
    }
   ],
   "source": [
    "standard_auc = accuracy_score(y_test, standard_predictions)\n",
    "xgb_auc = accuracy_score(y_test, surrogate_model_predictions)\n",
    "plt.rcParams['figure.figsize'] = [12, 8]\n",
    "plt.rcParams.update({'font.size': 14})\n",
    "plt.plot(pens[0:], aucs[0:], label='Surrogated Logistic Regression')\n",
    "plt.xlabel('Penalty')\n",
    "plt.ylabel('AUC')\n",
    "plt.grid(True)\n",
    "plt.axhline(standard_auc, color='r', label='Standard Logistic Classificator')\n",
    "plt.axhline(xgb_auc, color='g', label='Gradient Boosting Classificator')\n",
    "plt.ylim((0, 1))\n",
    "plt.xlim((1,max(pens)))\n",
    "plt.legend()\n",
    "plt.show()"
   ]
  },
  {
   "cell_type": "markdown",
   "metadata": {},
   "source": [
    "# Summaries"
   ]
  },
  {
   "cell_type": "code",
   "execution_count": 28,
   "metadata": {},
   "outputs": [
    {
     "name": "stdout",
     "output_type": "stream",
     "text": [
      "Numerical Variable Pclass\n",
      "Selected intervals:\n",
      "\t[-Inf, Inf)\n",
      "Numerical Variable Age\n",
      "Selected intervals:\n",
      "\t[-Inf, 9.58)\n",
      "\t[9.58, 36.27)\n",
      "\t[36.27, Inf)\n",
      "Numerical Variable SibSp\n",
      "Selected intervals:\n",
      "\t[-Inf, Inf)\n",
      "Numerical Variable Parch\n",
      "Selected intervals:\n",
      "\t[-Inf, Inf)\n",
      "Numerical Variable Fare\n",
      "Selected intervals:\n",
      "\t[-Inf, Inf)\n",
      "Categorical Variable Sex\n",
      "Created variable levels:\n",
      "\t -> \n",
      "\n",
      "Categorical Variable Cabin\n",
      "Created variable levels:\n",
      "\tA10, A14, A16, A19, A20, A23, A24, A26, A31, A32, A34, A36, A5, A6, A7, B101, B102, B18, B19, B20, B22, B28, B3, B30, B35, B37, B38, B39, B4, B41, B42, B49, B5, B50, B51 B53 B55, B57 B59 B63 B66, B58 B60, B69, B71, B73, B77, B78, B79, B80, B82 B84, B86, B94, B96 B98, C101, C103, C104, C106, C110, C111, C118, C123, C124, C125, C126, C128, C148, C2, C22 C26, C23 C25 C27, C30, C32, C45, C46, C47, C49, C50, C52, C54, C62 C64, C65, C68, C7, C70, C78, C82, C83, C85, C86, C87, C90, C91, C92, C93, C95, C99, D, D10 D12, D11, D15, D17, D19, D20, D21, D26, D28, D30, D33, D35, D36, D37, D45, D46, D47, D48, D49, D50, D56, D6, D7, D9, E10, E101, E12, E121, E17, E24, E25, E31, E33, E34, E36, E38, E40, E44, E46, E49, E50, E58, E63, E67, E68, E77, E8, F E69, F G63, F G73, F2, F33, F38, F4, G6, T -> A10_A14_A16_A19_A20_A23_A24_A26_A31_A32_A34_A36_A5_A6_A7_B101_B102_B18_B19_B20_B22_B28_B3_B30_B35_B37_B38_B39_B4_B41_B42_B49_B5_B50_B51 B53 B55_B57 B59 B63 B66_B58 B60_B69_B71_B73_B77_B78_B79_B80_B82 B84_B86_B94_B96 B98_C101_C103_C104_C106_C110_C111_C118_C123_C124_C125_C126_C128_C148_C2_C22 C26_C23 C25 C27_C30_C32_C45_C46_C47_C49_C50_C52_C54_C62 C64_C65_C68_C7_C70_C78_C82_C83_C85_C86_C87_C90_C91_C92_C93_C95_C99_D_D10 D12_D11_D15_D17_D19_D20_D21_D26_D28_D30_D33_D35_D36_D37_D45_D46_D47_D48_D49_D50_D56_D6_D7_D9_E10_E101_E12_E121_E17_E24_E25_E31_E33_E34_E36_E38_E40_E44_E46_E49_E50_E58_E63_E67_E68_E77_E8_F E69_F G63_F G73_F2_F33_F38_F4_G6_T\n",
      "\tunknown -> unknown\n",
      "\n",
      "Categorical Variable Embarked\n",
      "Created variable levels:\n",
      "\tC -> C\n",
      "\tQ -> Q\n",
      "\tS -> S\n",
      "\n"
     ]
    }
   ],
   "source": [
    "safe_transformer.summary()"
   ]
  },
  {
   "cell_type": "code",
   "execution_count": null,
   "metadata": {},
   "outputs": [],
   "source": [
    "safe_transformer.summary(variable_name=)"
   ]
  }
 ],
 "metadata": {
  "kernelspec": {
   "display_name": "Python 3",
   "language": "python",
   "name": "python3"
  },
  "language_info": {
   "codemirror_mode": {
    "name": "ipython",
    "version": 3
   },
   "file_extension": ".py",
   "mimetype": "text/x-python",
   "name": "python",
   "nbconvert_exporter": "python",
   "pygments_lexer": "ipython3",
   "version": "3.7.1"
  }
 },
 "nbformat": 4,
 "nbformat_minor": 2
}
