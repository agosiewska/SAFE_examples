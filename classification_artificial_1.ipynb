{
 "cells": [
  {
   "cell_type": "code",
   "execution_count": 1,
   "metadata": {},
   "outputs": [],
   "source": [
    "from SafeTransformer import SafeTransformer\n",
    "from sklearn.datasets import load_boston\n",
    "from xgboost import XGBClassifier\n",
    "from sklearn.linear_model import LogisticRegression\n",
    "import pandas as pd\n",
    "import numpy as np\n",
    "from sklearn.model_selection import train_test_split\n",
    "from sklearn.metrics import accuracy_score\n",
    "from sklearn.pipeline import Pipeline\n",
    "import random\n",
    "import matplotlib.pyplot as plt\n",
    "from copy import deepcopy"
   ]
  },
  {
   "cell_type": "code",
   "execution_count": 2,
   "metadata": {},
   "outputs": [],
   "source": [
    "def y_function(value, value2):\n",
    "    if value2 > 3.5:\n",
    "        return 0\n",
    "    if value > -2 and value < 2:\n",
    "        return 1\n",
    "    if value < -4:\n",
    "        return 1\n",
    "    if value > 4:\n",
    "        return 0\n",
    "    else:\n",
    "        return 0"
   ]
  },
  {
   "cell_type": "code",
   "execution_count": 3,
   "metadata": {},
   "outputs": [],
   "source": [
    "n = 500"
   ]
  },
  {
   "cell_type": "code",
   "execution_count": 4,
   "metadata": {},
   "outputs": [
    {
     "data": {
      "text/html": [
       "<div>\n",
       "<style scoped>\n",
       "    .dataframe tbody tr th:only-of-type {\n",
       "        vertical-align: middle;\n",
       "    }\n",
       "\n",
       "    .dataframe tbody tr th {\n",
       "        vertical-align: top;\n",
       "    }\n",
       "\n",
       "    .dataframe thead th {\n",
       "        text-align: right;\n",
       "    }\n",
       "</style>\n",
       "<table border=\"1\" class=\"dataframe\">\n",
       "  <thead>\n",
       "    <tr style=\"text-align: right;\">\n",
       "      <th></th>\n",
       "      <th>X</th>\n",
       "      <th>X2</th>\n",
       "    </tr>\n",
       "  </thead>\n",
       "  <tbody>\n",
       "    <tr>\n",
       "      <th>0</th>\n",
       "      <td>-5.196389</td>\n",
       "      <td>3.482346</td>\n",
       "    </tr>\n",
       "    <tr>\n",
       "      <th>1</th>\n",
       "      <td>-5.503626</td>\n",
       "      <td>1.430697</td>\n",
       "    </tr>\n",
       "    <tr>\n",
       "      <th>2</th>\n",
       "      <td>-4.963384</td>\n",
       "      <td>1.134257</td>\n",
       "    </tr>\n",
       "    <tr>\n",
       "      <th>3</th>\n",
       "      <td>-4.549155</td>\n",
       "      <td>2.756574</td>\n",
       "    </tr>\n",
       "    <tr>\n",
       "      <th>4</th>\n",
       "      <td>-5.620268</td>\n",
       "      <td>3.597345</td>\n",
       "    </tr>\n",
       "  </tbody>\n",
       "</table>\n",
       "</div>"
      ],
      "text/plain": [
       "          X        X2\n",
       "0 -5.196389  3.482346\n",
       "1 -5.503626  1.430697\n",
       "2 -4.963384  1.134257\n",
       "3 -4.549155  2.756574\n",
       "4 -5.620268  3.597345"
      ]
     },
     "execution_count": 4,
     "metadata": {},
     "output_type": "execute_result"
    }
   ],
   "source": [
    "np.random.seed(123)\n",
    "X = pd.DataFrame(data={'X': np.linspace(-5, 5, n),'X2': np.random.uniform(low=0, high=5, size=n)})\n",
    "y = pd.Series(map(lambda value: y_function(value[0], value[1]), zip(X['X'], X['X2'])))\n",
    "random.seed(123)\n",
    "X['X'] = X['X'] + np.random.normal(size=n, scale=0.4)\n",
    "X.head()"
   ]
  },
  {
   "cell_type": "code",
   "execution_count": 5,
   "metadata": {},
   "outputs": [],
   "source": [
    "X_train, X_test, y_train, y_test = train_test_split(X, y, random_state = 123)"
   ]
  },
  {
   "cell_type": "code",
   "execution_count": 6,
   "metadata": {},
   "outputs": [
    {
     "data": {
      "text/plain": [
       "0.912"
      ]
     },
     "execution_count": 6,
     "metadata": {},
     "output_type": "execute_result"
    }
   ],
   "source": [
    "surrogate_model = XGBClassifier().fit(X_train, y_train)\n",
    "surrogate_model_predictions = surrogate_model.predict(X_test)\n",
    "accuracy_score(y_test, surrogate_model_predictions)"
   ]
  },
  {
   "cell_type": "code",
   "execution_count": 7,
   "metadata": {},
   "outputs": [
    {
     "name": "stdout",
     "output_type": "stream",
     "text": [
      "0.744\n"
     ]
    }
   ],
   "source": [
    "base_model = LogisticRegression(solver = 'lbfgs').fit(X_train, y_train)\n",
    "base_predictions = base_model.predict(X_test)\n",
    "print(accuracy_score(y_test, base_predictions))"
   ]
  },
  {
   "cell_type": "code",
   "execution_count": 8,
   "metadata": {},
   "outputs": [
    {
     "name": "stdout",
     "output_type": "stream",
     "text": [
      "[0.01, 0.88]\n",
      "[0.42625, 0.912]\n",
      "[0.8425, 0.92]\n",
      "[1.25875, 0.912]\n",
      "[1.675, 0.912]\n",
      "[2.0912499999999996, 0.912]\n",
      "[2.5075, 0.912]\n",
      "[2.92375, 0.912]\n",
      "[3.34, 0.912]\n",
      "[3.7562499999999996, 0.912]\n",
      "[4.172499999999999, 0.912]\n",
      "[4.58875, 0.912]\n",
      "[5.005, 0.912]\n",
      "[5.42125, 0.912]\n",
      "[5.8375, 0.912]\n",
      "[6.25375, 0.912]\n",
      "[6.67, 0.912]\n",
      "[7.08625, 0.912]\n",
      "[7.5024999999999995, 0.912]\n",
      "[7.91875, 0.912]\n",
      "[8.334999999999999, 0.912]\n",
      "[8.75125, 0.912]\n",
      "[9.1675, 0.912]\n",
      "[9.58375, 0.912]\n",
      "[10.0, 0.912]\n"
     ]
    }
   ],
   "source": [
    "pens = np.linspace(0.01, 10, 25)\n",
    "best_score = float('-Inf')\n",
    "best_pen = 0\n",
    "aucs = []\n",
    "\n",
    "for pen in pens:\n",
    "    surrogate_model = XGBClassifier(random_state = 123)\n",
    "    logistic_model_simple = LogisticRegression(solver='lbfgs')\n",
    "    safe_transformer = SafeTransformer(surrogate_model, penalty = pen)\n",
    "    pipe = Pipeline(steps=[('safe', safe_transformer), ('linear', logistic_model_simple)])\n",
    "    pipe = pipe.fit(X_train, y_train)\n",
    "    predictions = pipe.predict(X_test)\n",
    "    auc = accuracy_score(y_test, predictions)\n",
    "    aucs.append(auc)\n",
    "    print([pen,auc])\n",
    "    if auc > best_score:\n",
    "        best_transformer = deepcopy(safe_transformer)\n",
    "        best_model = deepcopy(logistic_model_simple)\n",
    "        best_score = auc\n",
    "        best_pen = pen"
   ]
  },
  {
   "cell_type": "code",
   "execution_count": null,
   "metadata": {},
   "outputs": [],
   "source": []
  }
 ],
 "metadata": {
  "kernelspec": {
   "display_name": "Python 3",
   "language": "python",
   "name": "python3"
  },
  "language_info": {
   "codemirror_mode": {
    "name": "ipython",
    "version": 3
   },
   "file_extension": ".py",
   "mimetype": "text/x-python",
   "name": "python",
   "nbconvert_exporter": "python",
   "pygments_lexer": "ipython3",
   "version": "3.7.1"
  }
 },
 "nbformat": 4,
 "nbformat_minor": 2
}
