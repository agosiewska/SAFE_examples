{
 "cells": [
  {
   "cell_type": "code",
   "execution_count": 1,
   "metadata": {},
   "outputs": [],
   "source": [
    "from SafeTransformer import SafeTransformer\n",
    "from sklearn.ensemble import GradientBoostingClassifier\n",
    "from sklearn.linear_model import LogisticRegression\n",
    "from sklearn.tree import DecisionTreeClassifier\n",
    "import pandas as pd\n",
    "import numpy as np\n",
    "from sklearn.model_selection import train_test_split\n",
    "from sklearn.metrics import accuracy_score\n",
    "from sklearn.pipeline import Pipeline\n",
    "import random\n",
    "from sklearn.metrics import auc\n",
    "import matplotlib.pyplot as plt\n",
    "from copy import deepcopy\n",
    "from math import floor, fmod, log\n",
    "from scipy.special import logit\n",
    "from sklearn import metrics\n",
    "from sklearn.ensemble.partial_dependence import plot_partial_dependence"
   ]
  },
  {
   "cell_type": "code",
   "execution_count": 24,
   "metadata": {},
   "outputs": [],
   "source": [
    "tae = pd.read_csv(\"tae.csv\", header = None)\n",
    "tae.columns = [\"X\" + str(s) for s in tae.columns]\n",
    "tae.head()\n",
    "y = tae[\"X0\"] - 1\n",
    "X = tae.drop([\"X0\"], axis=1)"
   ]
  },
  {
   "cell_type": "code",
   "execution_count": 25,
   "metadata": {},
   "outputs": [],
   "source": [
    "X_train, X_test, y_train, y_test = train_test_split(X, y, random_state = 123)"
   ]
  },
  {
   "cell_type": "markdown",
   "metadata": {},
   "source": [
    "# SAFE"
   ]
  },
  {
   "cell_type": "code",
   "execution_count": 26,
   "metadata": {},
   "outputs": [
    {
     "name": "stdout",
     "output_type": "stream",
     "text": [
      "0.8421052631578947\n"
     ]
    },
    {
     "data": {
      "text/plain": [
       "0.725"
      ]
     },
     "execution_count": 26,
     "metadata": {},
     "output_type": "execute_result"
    }
   ],
   "source": [
    "logistic_model = LogisticRegression(solver = 'lbfgs')\n",
    "logistic_model = logistic_model.fit(X_train, y_train)\n",
    "standard_predictions = logistic_model.predict(X_test)\n",
    "print(accuracy_score(y_test, standard_predictions))\n",
    "\n",
    "pred = logistic_model.predict_proba(X_test)[:,1]\n",
    "fpr, tpr, thresholds = metrics.roc_curve(y_test, pred, pos_label=1)\n",
    "metrics.auc(fpr, tpr)"
   ]
  },
  {
   "cell_type": "code",
   "execution_count": 27,
   "metadata": {},
   "outputs": [
    {
     "name": "stdout",
     "output_type": "stream",
     "text": [
      "0.8421052631578947\n"
     ]
    },
    {
     "data": {
      "text/plain": [
       "0.8375"
      ]
     },
     "execution_count": 27,
     "metadata": {},
     "output_type": "execute_result"
    }
   ],
   "source": [
    "surrogate_model = GradientBoostingClassifier(random_state = 123,\n",
    "                    n_estimators = 500, learning_rate = 0.11)\n",
    "surrogate_model = surrogate_model.fit(X_train, y_train)\n",
    "surrogate_model_predictions = surrogate_model.predict(X_test)\n",
    "print(accuracy_score(y_test, surrogate_model_predictions))\n",
    "\n",
    "pred = surrogate_model.predict_proba(X_test)[:,1]\n",
    "fpr, tpr, thresholds = metrics.roc_curve(y_test, pred, pos_label=1)\n",
    "metrics.auc(fpr, tpr)"
   ]
  },
  {
   "cell_type": "code",
   "execution_count": 28,
   "metadata": {},
   "outputs": [
    {
     "name": "stdout",
     "output_type": "stream",
     "text": [
      "[0.01, 0.8421052631578947, 0.8208333333333333]\n",
      "[0.42625, 0.8421052631578947, 0.7583333333333333]\n",
      "[0.8425, 0.868421052631579, 0.7125]\n",
      "[1.25875, 0.868421052631579, 0.7458333333333333]\n",
      "[1.675, 0.8421052631578947, 0.6979166666666667]\n",
      "[2.0912499999999996, 0.8421052631578947, 0.6979166666666667]\n",
      "[2.5075, 0.8421052631578947, 0.6458333333333334]\n",
      "[2.92375, 0.8421052631578947, 0.6458333333333334]\n",
      "[3.34, 0.8421052631578947, 0.6895833333333334]\n",
      "[3.7562499999999996, 0.8421052631578947, 0.6895833333333334]\n",
      "[4.172499999999999, 0.8421052631578947, 0.6895833333333334]\n",
      "[4.58875, 0.8421052631578947, 0.6895833333333334]\n",
      "[5.005, 0.8421052631578947, 0.6895833333333334]\n",
      "[5.42125, 0.8421052631578947, 0.6895833333333334]\n",
      "[5.8375, 0.8421052631578947, 0.5833333333333334]\n",
      "[6.25375, 0.8421052631578947, 0.6666666666666666]\n",
      "[6.67, 0.8421052631578947, 0.6666666666666666]\n",
      "[7.08625, 0.8421052631578947, 0.6666666666666666]\n",
      "[7.5024999999999995, 0.8421052631578947, 0.6666666666666666]\n",
      "[7.91875, 0.8421052631578947, 0.5916666666666667]\n",
      "[8.334999999999999, 0.8421052631578947, 0.5916666666666667]\n",
      "[8.75125, 0.8421052631578947, 0.5916666666666667]\n",
      "[9.1675, 0.8421052631578947, 0.5916666666666667]\n",
      "[9.58375, 0.8421052631578947, 0.5916666666666667]\n",
      "[10.0, 0.8421052631578947, 0.5916666666666667]\n"
     ]
    }
   ],
   "source": [
    "pens = np.linspace(0.01, 10, 25)\n",
    "best_auc = float('-Inf')\n",
    "best_acc = float('-Inf')\n",
    "best_auc_pen = 0\n",
    "best_acc_pen = 0\n",
    "aucs = []\n",
    "accs = []\n",
    "\n",
    "for pen in pens:\n",
    "    surrogate_model = GradientBoostingClassifier(random_state = 123)\n",
    "    logistic_model_simple = LogisticRegression(solver = 'lbfgs')\n",
    "    safe_transformer = SafeTransformer(surrogate_model, penalty = pen)\n",
    "    pipe = Pipeline(steps=[('safe', safe_transformer), ('linear', logistic_model_simple)])\n",
    "    pipe = pipe.fit(X_train, y_train)\n",
    "    predictions = pipe.predict(X_test)\n",
    "    acc = accuracy_score(y_test, predictions)\n",
    "    accs.append(acc)\n",
    "    \n",
    "    pred = pipe.predict_proba(X_test)[:,1]\n",
    "    fpr, tpr, thresholds = metrics.roc_curve(y_test, pred, pos_label=1)\n",
    "    auc = metrics.auc(fpr, tpr)\n",
    "    aucs.append(auc)\n",
    "    \n",
    "    print([pen, acc, auc])\n",
    "    if acc > best_acc:\n",
    "        best_acc_transformer = deepcopy(safe_transformer)\n",
    "        best_acc_model = deepcopy(logistic_model_simple)\n",
    "        best_acc = acc\n",
    "        best_acc_pen = pen\n",
    "        \n",
    "    if auc > best_auc:\n",
    "        best_auc_transformer = deepcopy(safe_transformer)\n",
    "        best_auc_model = deepcopy(logistic_model_simple)\n",
    "        best_auc = auc\n",
    "        best_auc_pen = pen"
   ]
  },
  {
   "cell_type": "code",
   "execution_count": 29,
   "metadata": {},
   "outputs": [
    {
     "data": {
      "text/plain": [
       "0.8208333333333333"
      ]
     },
     "execution_count": 29,
     "metadata": {},
     "output_type": "execute_result"
    }
   ],
   "source": [
    "best_auc"
   ]
  },
  {
   "cell_type": "code",
   "execution_count": 30,
   "metadata": {},
   "outputs": [
    {
     "data": {
      "text/plain": [
       "0.868421052631579"
      ]
     },
     "execution_count": 30,
     "metadata": {},
     "output_type": "execute_result"
    }
   ],
   "source": [
    "best_acc"
   ]
  },
  {
   "cell_type": "markdown",
   "metadata": {},
   "source": [
    "# SAFE trees"
   ]
  },
  {
   "cell_type": "code",
   "execution_count": 31,
   "metadata": {},
   "outputs": [
    {
     "name": "stdout",
     "output_type": "stream",
     "text": [
      "0.8421052631578947\n"
     ]
    },
    {
     "data": {
      "text/plain": [
       "0.7625"
      ]
     },
     "execution_count": 31,
     "metadata": {},
     "output_type": "execute_result"
    }
   ],
   "source": [
    "tree_model = DecisionTreeClassifier(random_state=123)\n",
    "tree_model = tree_model.fit(X_train, y_train)\n",
    "standard_predictions = tree_model.predict(X_test)\n",
    "print(accuracy_score(y_test, standard_predictions))\n",
    "\n",
    "pred = tree_model.predict_proba(X_test)[:,1]\n",
    "fpr, tpr, thresholds = metrics.roc_curve(y_test, pred, pos_label=1)\n",
    "metrics.auc(fpr, tpr)"
   ]
  },
  {
   "cell_type": "code",
   "execution_count": 32,
   "metadata": {},
   "outputs": [
    {
     "name": "stdout",
     "output_type": "stream",
     "text": [
      "0.8421052631578947\n"
     ]
    },
    {
     "data": {
      "text/plain": [
       "0.8166666666666667"
      ]
     },
     "execution_count": 32,
     "metadata": {},
     "output_type": "execute_result"
    }
   ],
   "source": [
    "surrogate_model = GradientBoostingClassifier(random_state = 123)\n",
    "surrogate_model = surrogate_model.fit(X_train, y_train)\n",
    "surrogate_model_predictions = surrogate_model.predict(X_test)\n",
    "print(accuracy_score(y_test, surrogate_model_predictions))\n",
    "\n",
    "pred = surrogate_model.predict_proba(X_test)[:,1]\n",
    "fpr, tpr, thresholds = metrics.roc_curve(y_test, pred, pos_label=1)\n",
    "metrics.auc(fpr, tpr)"
   ]
  },
  {
   "cell_type": "code",
   "execution_count": 33,
   "metadata": {},
   "outputs": [
    {
     "name": "stdout",
     "output_type": "stream",
     "text": [
      "[0.01, 0.8947368421052632, 0.8416666666666667]\n",
      "[0.42625, 0.868421052631579, 0.8374999999999999]\n",
      "[0.8425, 0.868421052631579, 0.8395833333333333]\n",
      "[1.25875, 0.8947368421052632, 0.8083333333333333]\n",
      "[1.675, 0.8947368421052632, 0.825]\n",
      "[2.0912499999999996, 0.8947368421052632, 0.825]\n",
      "[2.5075, 0.868421052631579, 0.7979166666666666]\n",
      "[2.92375, 0.868421052631579, 0.7979166666666666]\n",
      "[3.34, 0.868421052631579, 0.7958333333333334]\n",
      "[3.7562499999999996, 0.868421052631579, 0.7958333333333334]\n",
      "[4.172499999999999, 0.868421052631579, 0.7958333333333334]\n",
      "[4.58875, 0.868421052631579, 0.7958333333333334]\n",
      "[5.005, 0.868421052631579, 0.7958333333333334]\n",
      "[5.42125, 0.868421052631579, 0.7958333333333334]\n",
      "[5.8375, 0.8421052631578947, 0.6145833333333334]\n",
      "[6.25375, 0.8421052631578947, 0.6875]\n",
      "[6.67, 0.8421052631578947, 0.6875]\n",
      "[7.08625, 0.8421052631578947, 0.6875]\n",
      "[7.5024999999999995, 0.8421052631578947, 0.6875]\n",
      "[7.91875, 0.7105263157894737, 0.6125]\n",
      "[8.334999999999999, 0.7105263157894737, 0.6125]\n",
      "[8.75125, 0.7105263157894737, 0.6125]\n",
      "[9.1675, 0.7105263157894737, 0.6125]\n",
      "[9.58375, 0.7105263157894737, 0.6125]\n",
      "[10.0, 0.7105263157894737, 0.6125]\n"
     ]
    }
   ],
   "source": [
    "pens = np.linspace(0.01, 10, 25)\n",
    "best_auc = float('-Inf')\n",
    "best_acc = float('-Inf')\n",
    "best_auc_pen = 0\n",
    "best_acc_pen = 0\n",
    "aucs = []\n",
    "accs = []\n",
    "\n",
    "for pen in pens:\n",
    "    surrogate_model = GradientBoostingClassifier(random_state = 123)\n",
    "    tree_model_simple = DecisionTreeClassifier(random_state = 123)\n",
    "    safe_transformer = SafeTransformer(surrogate_model, penalty = pen)\n",
    "    pipe = Pipeline(steps=[('safe', safe_transformer), ('tree', tree_model_simple)])\n",
    "    pipe = pipe.fit(X_train, y_train)\n",
    "    predictions = pipe.predict(X_test)\n",
    "    acc = accuracy_score(y_test, predictions)\n",
    "    accs.append(acc)\n",
    "    \n",
    "    pred = pipe.predict_proba(X_test)[:,1]\n",
    "    fpr, tpr, thresholds = metrics.roc_curve(y_test, pred, pos_label=1)\n",
    "    auc = metrics.auc(fpr, tpr)\n",
    "    aucs.append(auc)\n",
    "    \n",
    "    print([pen, acc, auc])\n",
    "    if acc > best_acc:\n",
    "        best_acc_transformer = deepcopy(safe_transformer)\n",
    "        best_acc_model = deepcopy(tree_model_simple)\n",
    "        best_acc = acc\n",
    "        best_acc_pen = pen\n",
    "        \n",
    "    if auc > best_auc:\n",
    "        best_auc_transformer = deepcopy(safe_transformer)\n",
    "        best_auc_model = deepcopy(tree_model_simple)\n",
    "        best_auc = auc\n",
    "        best_auc_pen = pen"
   ]
  },
  {
   "cell_type": "code",
   "execution_count": 34,
   "metadata": {},
   "outputs": [
    {
     "data": {
      "text/plain": [
       "[0.8947368421052632, 0.8416666666666667]"
      ]
     },
     "execution_count": 34,
     "metadata": {},
     "output_type": "execute_result"
    }
   ],
   "source": [
    "[best_acc, best_auc]"
   ]
  },
  {
   "cell_type": "code",
   "execution_count": null,
   "metadata": {},
   "outputs": [],
   "source": []
  }
 ],
 "metadata": {
  "kernelspec": {
   "display_name": "Python 3",
   "language": "python",
   "name": "python3"
  },
  "language_info": {
   "codemirror_mode": {
    "name": "ipython",
    "version": 3
   },
   "file_extension": ".py",
   "mimetype": "text/x-python",
   "name": "python",
   "nbconvert_exporter": "python",
   "pygments_lexer": "ipython3",
   "version": "3.7.1"
  }
 },
 "nbformat": 4,
 "nbformat_minor": 2
}
