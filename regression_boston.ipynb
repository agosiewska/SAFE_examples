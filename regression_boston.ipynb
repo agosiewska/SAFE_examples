{
 "cells": [
  {
   "cell_type": "code",
   "execution_count": 31,
   "metadata": {},
   "outputs": [],
   "source": [
    "from SafeTransformer import SafeTransformer\n",
    "from sklearn.datasets import load_boston\n",
    "from sklearn.ensemble import GradientBoostingRegressor\n",
    "from sklearn.linear_model import LinearRegression\n",
    "import pandas as pd\n",
    "import numpy as np\n",
    "from sklearn.model_selection import train_test_split\n",
    "from sklearn.metrics import mean_squared_error\n",
    "from sklearn.pipeline import Pipeline\n",
    "import random\n",
    "import matplotlib.pyplot as plt\n",
    "from copy import deepcopy"
   ]
  },
  {
   "cell_type": "code",
   "execution_count": 13,
   "metadata": {},
   "outputs": [],
   "source": [
    "data = load_boston()\n",
    "X = pd.DataFrame(data.data, columns=data.feature_names)\n",
    "y = data.target"
   ]
  },
  {
   "cell_type": "code",
   "execution_count": 14,
   "metadata": {},
   "outputs": [],
   "source": [
    "random.seed(123)\n",
    "X_train, X_test, y_train, y_test = train_test_split(X, y)"
   ]
  },
  {
   "cell_type": "code",
   "execution_count": 16,
   "metadata": {},
   "outputs": [
    {
     "data": {
      "text/plain": [
       "22.897114784362394"
      ]
     },
     "execution_count": 16,
     "metadata": {},
     "output_type": "execute_result"
    }
   ],
   "source": [
    "linear_model_standard = LinearRegression()\n",
    "linear_model_standard = linear_model_standard.fit(X_train, y_train)\n",
    "standard_predictions = linear_model_standard.predict(X_test)\n",
    "\n",
    "mean_squared_error(y_test, standard_predictions)"
   ]
  },
  {
   "cell_type": "code",
   "execution_count": 17,
   "metadata": {},
   "outputs": [
    {
     "data": {
      "text/plain": [
       "11.350385052169495"
      ]
     },
     "execution_count": 17,
     "metadata": {},
     "output_type": "execute_result"
    }
   ],
   "source": [
    "gbm_model = GradientBoostingRegressor(n_estimators=100,\n",
    "    max_depth=4,\n",
    "    learning_rate=0.1,\n",
    "    loss='huber')\n",
    "gbm_model = gbm_model.fit(X_train, y_train)\n",
    "gbm_predictions = gbm_model.predict(X_test)\n",
    "\n",
    "mean_squared_error(y_test, gbm_predictions)"
   ]
  },
  {
   "cell_type": "code",
   "execution_count": 18,
   "metadata": {},
   "outputs": [],
   "source": [
    "random.seed(123)\n",
    "surrogate_model = GradientBoostingRegressor(n_estimators=100,\n",
    "    max_depth=4,\n",
    "    learning_rate=0.1,\n",
    "    loss='huber')"
   ]
  },
  {
   "cell_type": "code",
   "execution_count": 26,
   "metadata": {},
   "outputs": [
    {
     "name": "stdout",
     "output_type": "stream",
     "text": [
      "[0.01, 1.4944851824739782e+23]\n",
      "[0.42625, 18.101423314892802]\n",
      "[0.8425, 15.908341891217114]\n",
      "[1.25875, 15.147569182873244]\n",
      "[1.675, 14.988270305906116]\n",
      "[2.0912499999999996, 14.929171502501719]\n",
      "[2.5075, 14.505030807171881]\n",
      "[2.92375, 16.352444060529262]\n",
      "[3.34, 15.628224906421364]\n",
      "[3.7562499999999996, 15.921450042645603]\n",
      "[4.172499999999999, 14.972020120362092]\n",
      "[4.58875, 13.978865773127502]\n",
      "[5.005, 13.978865773127502]\n",
      "[5.42125, 14.412450902239446]\n",
      "[5.8375, 14.412450902239446]\n",
      "[6.25375, 14.16562425655144]\n",
      "[6.67, 14.16562425655144]\n",
      "[7.08625, 14.16562425655144]\n",
      "[7.5024999999999995, 14.254184570388956]\n",
      "[7.91875, 14.572038425376837]\n",
      "[8.334999999999999, 14.572038425376837]\n",
      "[8.75125, 14.436294355110853]\n",
      "[9.1675, 14.60380041514319]\n",
      "[9.58375, 14.518972004197098]\n",
      "[10.0, 14.654211492011555]\n"
     ]
    }
   ],
   "source": [
    "best_score = float('Inf')\n",
    "best_pen = 0\n",
    "errors = []\n",
    "pens = np.linspace(0.01, 10, 25)\n",
    "surrogate_model = surrogate_model.fit(X_train, y_train)\n",
    "for pen in pens:\n",
    "    safe_transformer = SafeTransformer(surrogate_model, penalty = pen)\n",
    "\n",
    "    safe_transformer = safe_transformer.fit(pd.DataFrame(X_train))\n",
    "\n",
    "    X_train_transformed = safe_transformer.transform(X_train)\n",
    "\n",
    "    X_test_transformed = safe_transformer.transform(X_test)\n",
    "\n",
    "    linear_model_transformed = LinearRegression()\n",
    "\n",
    "    linear_model_transformed = linear_model_transformed.fit(X_train_transformed, y_train)\n",
    "\n",
    "    surrogate_predictions = linear_model_transformed.predict(X_test_transformed)\n",
    "    error = mean_squared_error(y_test, surrogate_predictions)\n",
    "    errors.append(error)\n",
    "    print([pen,error])\n",
    "    if error < best_score:\n",
    "        best_transformer = deepcopy(safe_transformer)\n",
    "        best_model = deepcopy(linear_model_transformed)\n",
    "        best_score = error\n",
    "        best_pen = pen\n",
    "        "
   ]
  },
  {
   "cell_type": "code",
   "execution_count": 28,
   "metadata": {},
   "outputs": [
    {
     "data": {
      "text/plain": [
       "13.978865773127502"
      ]
     },
     "execution_count": 28,
     "metadata": {},
     "output_type": "execute_result"
    }
   ],
   "source": [
    "best_score"
   ]
  },
  {
   "cell_type": "code",
   "execution_count": 29,
   "metadata": {},
   "outputs": [
    {
     "name": "stdout",
     "output_type": "stream",
     "text": [
      "10.992437505457678\n"
     ]
    }
   ],
   "source": [
    "gb_predictions = surrogate_model.predict(X_test)\n",
    "print(mean_squared_error(y_test, gb_predictions))"
   ]
  },
  {
   "cell_type": "code",
   "execution_count": 32,
   "metadata": {},
   "outputs": [
    {
     "data": {
      "image/png": "[encoded data removed]",
      "text/plain": [
       "<Figure size 864x576 with 1 Axes>"
      ]
     },
     "metadata": {
      "needs_background": "light"
     },
     "output_type": "display_data"
    }
   ],
   "source": [
    "standard_error = mean_squared_error(y_test, standard_predictions)\n",
    "xgb_error = mean_squared_error(y_test, gb_predictions)\n",
    "plt.rcParams['figure.figsize'] = [12, 8]\n",
    "plt.rcParams.update({'font.size': 14})\n",
    "plt.plot(pens[1:], errors[1:], label='Surrogated Linear Regression')\n",
    "plt.xlabel('Penalty')\n",
    "plt.ylabel('MSE')\n",
    "plt.grid(True)\n",
    "plt.axhline(standard_error, color='r', label='Standard Linear Regression')\n",
    "plt.axhline(xgb_error, color='g', label='Gradient Boosting Regressor')\n",
    "plt.ylim((0, max(max(errors[1:])+1, standard_error+1)))\n",
    "plt.legend()\n",
    "plt.show()"
   ]
  },
  {
   "cell_type": "code",
   "execution_count": null,
   "metadata": {},
   "outputs": [],
   "source": []
  }
 ],
 "metadata": {
  "kernelspec": {
   "display_name": "Python 3",
   "language": "python",
   "name": "python3"
  },
  "language_info": {
   "codemirror_mode": {
    "name": "ipython",
    "version": 3
   },
   "file_extension": ".py",
   "mimetype": "text/x-python",
   "name": "python",
   "nbconvert_exporter": "python",
   "pygments_lexer": "ipython3",
   "version": "3.7.1"
  }
 },
 "nbformat": 4,
 "nbformat_minor": 2
}
