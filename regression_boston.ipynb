{
 "cells": [
  {
   "cell_type": "code",
   "execution_count": 1,
   "metadata": {},
   "outputs": [],
   "source": [
    "from SafeTransformer import SafeTransformer\n",
    "from sklearn.datasets import load_boston\n",
    "from sklearn.ensemble import GradientBoostingRegressor\n",
    "from sklearn.linear_model import LinearRegression\n",
    "import pandas as pd\n",
    "import numpy as np\n",
    "from sklearn.model_selection import train_test_split\n",
    "from sklearn.metrics import mean_squared_error\n",
    "from sklearn.pipeline import Pipeline\n",
    "import random\n",
    "import matplotlib.pyplot as plt\n",
    "from copy import deepcopy\n",
    "from sklearn.ensemble.partial_dependence import plot_partial_dependence"
   ]
  },
  {
   "cell_type": "code",
   "execution_count": 2,
   "metadata": {},
   "outputs": [],
   "source": [
    "data = load_boston()\n",
    "X = pd.DataFrame(data.data, columns=data.feature_names)\n",
    "y = data.target"
   ]
  },
  {
   "cell_type": "code",
   "execution_count": 3,
   "metadata": {},
   "outputs": [],
   "source": [
    "X_train, X_test, y_train, y_test = train_test_split(X, y, random_state = 123)"
   ]
  },
  {
   "cell_type": "code",
   "execution_count": 13,
   "metadata": {},
   "outputs": [],
   "source": [
    "linear_model_standard = LinearRegression()\n",
    "linear_model_standard = linear_model_standard.fit(X_train, y_train)\n",
    "standard_predictions = linear_model_standard.predict(X_test)\n",
    "\n",
    "standard_predictions_error = mean_squared_error(y_test, standard_predictions)\n",
    "mean_squared_error(y_test, standard_predictions)"
   ]
  },
  {
   "cell_type": "code",
   "execution_count": 14,
   "metadata": {},
   "outputs": [
    {
     "data": {
      "text/plain": [
       "19.52532527339338"
      ]
     },
     "execution_count": 14,
     "metadata": {},
     "output_type": "execute_result"
    }
   ],
   "source": [
    "gbm_model = GradientBoostingRegressor(n_estimators=100,\n",
    "    max_depth=4,\n",
    "    learning_rate=0.4,\n",
    "    loss='huber', \n",
    "    random_state = 123)\n",
    "gbm_model = gbm_model.fit(X_train, y_train)\n",
    "gbm_predictions = gbm_model.predict(X_test)\n",
    "\n",
    "surrogate_model_predictions_error = mean_squared_error(y_test, gbm_predictions)\n",
    "mean_squared_error(y_test, gbm_predictions)"
   ]
  },
  {
   "cell_type": "code",
   "execution_count": 6,
   "metadata": {},
   "outputs": [],
   "source": [
    "surrogate_model = GradientBoostingRegressor(n_estimators=100,\n",
    "    max_depth=4,\n",
    "    learning_rate=0.4,\n",
    "    loss='huber', random_state = 123)"
   ]
  },
  {
   "cell_type": "code",
   "execution_count": 7,
   "metadata": {},
   "outputs": [
    {
     "name": "stdout",
     "output_type": "stream",
     "text": [
      "[0.01, 4.382455672583189e+24]\n",
      "[0.42625, 24.000571592659256]\n",
      "[0.8425, 18.728720312949854]\n",
      "[1.25875, 19.533516690158752]\n",
      "[1.675, 20.559418740037827]\n",
      "[2.0912499999999996, 19.915737210962067]\n",
      "[2.5075, 19.892951047621906]\n",
      "[2.92375, 19.583190249644613]\n",
      "[3.34, 19.943950132786483]\n",
      "[3.7562499999999996, 20.40991760785407]\n",
      "[4.172499999999999, 20.53462671253358]\n",
      "[4.58875, 20.466927242165756]\n",
      "[5.005, 20.466927242165756]\n",
      "[5.42125, 20.51622593615292]\n",
      "[5.8375, 20.67368045296613]\n",
      "[6.25375, 19.401296563361996]\n",
      "[6.67, 19.496391750268337]\n",
      "[7.08625, 19.496391750268337]\n",
      "[7.5024999999999995, 19.249190194488587]\n",
      "[7.91875, 19.36476908413884]\n",
      "[8.334999999999999, 19.36476908413884]\n",
      "[8.75125, 19.36476908413884]\n",
      "[9.1675, 19.36476908413884]\n",
      "[9.58375, 19.41248741962809]\n",
      "[10.0, 19.621785041588765]\n"
     ]
    }
   ],
   "source": [
    "best_score = float('Inf')\n",
    "best_pen = 0\n",
    "errors = []\n",
    "pens = np.linspace(0.01, 10, 25)\n",
    "surrogate_model = surrogate_model.fit(X_train, y_train)\n",
    "for pen in pens:\n",
    "    safe_transformer = SafeTransformer(surrogate_model, penalty = pen)\n",
    "\n",
    "    safe_transformer = safe_transformer.fit(pd.DataFrame(X_train))\n",
    "\n",
    "    X_train_transformed = safe_transformer.transform(X_train)\n",
    "\n",
    "    X_test_transformed = safe_transformer.transform(X_test)\n",
    "\n",
    "    linear_model_transformed = LinearRegression()\n",
    "\n",
    "    linear_model_transformed = linear_model_transformed.fit(X_train_transformed, y_train)\n",
    "\n",
    "    surrogate_predictions = linear_model_transformed.predict(X_test_transformed)\n",
    "    error = mean_squared_error(y_test, surrogate_predictions)\n",
    "    errors.append(error)\n",
    "    print([pen,error])\n",
    "    if error < best_score:\n",
    "        best_transformer = deepcopy(safe_transformer)\n",
    "        best_model = deepcopy(linear_model_transformed)\n",
    "        best_score = error\n",
    "        best_pen = pen\n",
    "        "
   ]
  },
  {
   "cell_type": "code",
   "execution_count": 8,
   "metadata": {},
   "outputs": [
    {
     "data": {
      "text/plain": [
       "18.728720312949854"
      ]
     },
     "execution_count": 8,
     "metadata": {},
     "output_type": "execute_result"
    }
   ],
   "source": [
    "best_score"
   ]
  },
  {
   "cell_type": "code",
   "execution_count": 9,
   "metadata": {},
   "outputs": [
    {
     "name": "stdout",
     "output_type": "stream",
     "text": [
      "19.52532527339338\n"
     ]
    }
   ],
   "source": [
    "gb_predictions = surrogate_model.predict(X_test)\n",
    "print(mean_squared_error(y_test, gb_predictions))"
   ]
  },
  {
   "cell_type": "code",
   "execution_count": 10,
   "metadata": {},
   "outputs": [
    {
     "data": {
      "image/png": "[encoded data removed]",
      "text/plain": [
       "<Figure size 576x432 with 1 Axes>"
      ]
     },
     "metadata": {
      "needs_background": "light"
     },
     "output_type": "display_data"
    }
   ],
   "source": [
    "f = plt.figure(figsize=(8, 6))\n",
    "\n",
    "standard_error = mean_squared_error(y_test, standard_predictions)\n",
    "xgb_error = mean_squared_error(y_test, gb_predictions)\n",
    "\n",
    "plt.rcParams.update({'font.size': 14})\n",
    "plt.xlabel('Penalty', fontsize=16)\n",
    "plt.ylabel('MSE', fontsize=16)\n",
    "plt.grid(True)\n",
    "plt.axhline(standard_error, color='r', linewidth = 3,label='Linear Regression')\n",
    "plt.axhline(xgb_error, color='b', linewidth = 3,label='Surrogate Gradient Boosting Regressor')\n",
    "plt.plot(pens[1:], errors[1:], color = \"g\", linewidth = 3, label='Refined Linear Regression')\n",
    "\n",
    "plt.ylim((0, max(max(errors[1:])+1, standard_error+1)))\n",
    "plt.legend(loc = 'lower right')\n",
    "plt.xlim([0.4, 10])\n",
    "plt.xticks(fontsize=16)\n",
    "plt.yticks(fontsize=16)\n",
    "# f.set_size_inches(12,10, forward = True)\n",
    "\n",
    "plt.show()\n",
    "\n",
    "\n",
    "f.savefig(\"boston_results.pdf\", bbox_inches='tight')"
   ]
  },
  {
   "cell_type": "code",
   "execution_count": 11,
   "metadata": {
    "scrolled": true
   },
   "outputs": [
    {
     "name": "stdout",
     "output_type": "stream",
     "text": [
      "Numerical Variable CRIM\n",
      "Selected intervals:\n",
      "\t[-Inf, 7.14)\n",
      "\t[7.14, 13.82)\n",
      "\t[13.82, 14.26)\n",
      "\t[14.26, 15.15)\n",
      "\t[15.15, 24.50)\n",
      "\t[24.50, 25.84)\n",
      "\t[25.84, 33.85)\n",
      "\t[33.85, 70.81)\n",
      "\t[70.81, 81.50)\n",
      "\t[81.50, Inf)\n",
      "Numerical Variable ZN\n",
      "Selected intervals:\n",
      "\t[-Inf, 30.53)\n",
      "\t[30.53, 33.53)\n",
      "\t[33.53, Inf)\n",
      "Numerical Variable INDUS\n",
      "Selected intervals:\n",
      "\t[-Inf, 1.55)\n",
      "\t[1.55, 3.19)\n",
      "\t[3.19, 4.28)\n",
      "\t[4.28, 10.29)\n",
      "\t[10.29, 26.68)\n",
      "\t[26.68, Inf)\n",
      "Numerical Variable CHAS\n",
      "Selected intervals:\n",
      "\t[-Inf, 0.50)\n",
      "\t[0.50, Inf)\n",
      "Numerical Variable NOX\n",
      "Selected intervals:\n",
      "\t[-Inf, 0.44)\n",
      "\t[0.44, 0.44)\n",
      "\t[0.44, 0.52)\n",
      "\t[0.52, 0.59)\n",
      "\t[0.59, 0.60)\n",
      "\t[0.60, 0.62)\n",
      "\t[0.62, 0.62)\n",
      "\t[0.62, 0.64)\n",
      "\t[0.64, 0.67)\n",
      "\t[0.67, 0.67)\n",
      "\t[0.67, 0.69)\n",
      "\t[0.69, 0.70)\n",
      "\t[0.70, 0.72)\n",
      "\t[0.72, 0.73)\n",
      "\t[0.73, Inf)\n",
      "Numerical Variable RM\n",
      "Selected intervals:\n",
      "\t[-Inf, 4.96)\n",
      "\t[4.96, 4.98)\n",
      "\t[4.98, 5.01)\n",
      "\t[5.01, 5.03)\n",
      "\t[5.03, 5.42)\n",
      "\t[5.42, 5.86)\n",
      "\t[5.86, 6.04)\n",
      "\t[6.04, 6.12)\n",
      "\t[6.12, 6.58)\n",
      "\t[6.58, 6.61)\n",
      "\t[6.61, 6.82)\n",
      "\t[6.82, 6.95)\n",
      "\t[6.95, 7.08)\n",
      "\t[7.08, 7.10)\n",
      "\t[7.10, 7.13)\n",
      "\t[7.13, 7.41)\n",
      "\t[7.41, 7.44)\n",
      "\t[7.44, 7.80)\n",
      "\t[7.80, 8.06)\n",
      "\t[8.06, 8.29)\n",
      "\t[8.29, Inf)\n",
      "Numerical Variable AGE\n",
      "Selected intervals:\n",
      "\t[-Inf, 7.41)\n",
      "\t[7.41, 28.58)\n",
      "\t[28.58, 35.64)\n",
      "\t[35.64, 36.11)\n",
      "\t[36.11, 52.58)\n",
      "\t[52.58, 73.28)\n",
      "\t[73.28, 75.16)\n",
      "\t[75.16, 75.63)\n",
      "\t[75.63, 77.04)\n",
      "\t[77.04, 77.98)\n",
      "\t[77.98, 85.04)\n",
      "\t[85.04, 95.39)\n",
      "\t[95.39, 95.86)\n",
      "\t[95.86, 97.27)\n",
      "\t[97.27, Inf)\n",
      "Numerical Variable DIS\n",
      "Selected intervals:\n",
      "\t[-Inf, 1.28)\n",
      "\t[1.28, 1.39)\n",
      "\t[1.39, 1.50)\n",
      "\t[1.50, 1.66)\n",
      "\t[1.66, 2.10)\n",
      "\t[2.10, 3.47)\n",
      "\t[3.47, 3.91)\n",
      "\t[3.91, 4.08)\n",
      "\t[4.08, 4.24)\n",
      "\t[4.24, 4.46)\n",
      "\t[4.46, 6.00)\n",
      "\t[6.00, 6.05)\n",
      "\t[6.05, Inf)\n",
      "Numerical Variable RAD\n",
      "Selected intervals:\n",
      "\t[-Inf, 1.46)\n",
      "\t[1.46, 2.50)\n",
      "\t[2.50, 4.45)\n",
      "\t[4.45, Inf)\n",
      "Numerical Variable TAX\n",
      "Selected intervals:\n",
      "\t[-Inf, 207.98)\n",
      "\t[207.98, 223.72)\n",
      "\t[223.72, 242.08)\n",
      "\t[242.08, 281.41)\n",
      "\t[281.41, 407.30)\n",
      "\t[407.30, 551.54)\n",
      "\t[551.54, 687.92)\n",
      "\t[687.92, Inf)\n",
      "Numerical Variable PTRATIO\n",
      "Selected intervals:\n",
      "\t[-Inf, 13.87)\n",
      "\t[13.87, 16.03)\n",
      "\t[16.03, 17.73)\n",
      "\t[17.73, 18.67)\n",
      "\t[18.67, 19.14)\n",
      "\t[19.14, 20.55)\n",
      "\t[20.55, 20.97)\n",
      "\t[20.97, 21.12)\n",
      "\t[21.12, Inf)\n",
      "Numerical Variable B\n",
      "Selected intervals:\n",
      "\t[-Inf, 8.26)\n",
      "\t[8.26, 22.15)\n",
      "\t[22.15, 93.61)\n",
      "\t[93.61, 105.52)\n",
      "\t[105.52, 145.22)\n",
      "\t[145.22, 176.97)\n",
      "\t[176.97, 252.40)\n",
      "\t[252.40, 290.11)\n",
      "\t[290.11, 304.01)\n",
      "\t[304.01, 319.89)\n",
      "\t[319.89, 359.58)\n",
      "\t[359.58, 367.52)\n",
      "\t[367.52, Inf)\n",
      "Numerical Variable LSTAT\n",
      "Selected intervals:\n",
      "\t[-Inf, 3.49)\n",
      "\t[3.49, 4.73)\n",
      "\t[4.73, 5.43)\n",
      "\t[5.43, 9.85)\n",
      "\t[9.85, 10.02)\n",
      "\t[10.02, 11.26)\n",
      "\t[11.26, 11.61)\n",
      "\t[11.61, 11.79)\n",
      "\t[11.79, 14.26)\n",
      "\t[14.26, 14.96)\n",
      "\t[14.96, 16.20)\n",
      "\t[16.20, 19.90)\n",
      "\t[19.90, 23.96)\n",
      "\t[23.96, 29.96)\n",
      "\t[29.96, Inf)\n"
     ]
    }
   ],
   "source": [
    "best_transformer.summary()"
   ]
  },
  {
   "cell_type": "code",
   "execution_count": 12,
   "metadata": {
    "scrolled": true
   },
   "outputs": [
    {
     "data": {
      "image/png": "[encoded data removed]",
      "text/plain": [
       "<Figure size 576x576 with 1 Axes>"
      ]
     },
     "metadata": {
      "needs_background": "light"
     },
     "output_type": "display_data"
    }
   ],
   "source": [
    "plt.rcParams[\"figure.figsize\"] = [8, 8]\n",
    "\n",
    "f, axis = plot_partial_dependence(surrogate_model, X, [1],\n",
    "                                 line_kw = {\"linewidth\": 3})\n",
    "plt.axvline(30.53, color = \"black\", linewidth=3.0)\n",
    "plt.ylim(1.15, 1.67)\n",
    "plt.xlim(1.2, 100)\n",
    "plt.xlabel('ZN')\n",
    "plt.grid(True)\n",
    "plt.xticks(fontsize=16)\n",
    "plt.yticks(fontsize=16)\n",
    "plt.ylabel(\"Partial dependence\", fontsize=16)\n",
    "plt.xlabel(\"ZN\", fontsize=16)\n",
    "\n",
    "f.savefig(\"boston_PDP_ZN.pdf\", bbox_inches='tight')"
   ]
  },
  {
   "cell_type": "code",
   "execution_count": 18,
   "metadata": {},
   "outputs": [
    {
     "data": {
      "text/plain": [
       "1.2685335901860655"
      ]
     },
     "execution_count": 18,
     "metadata": {},
     "output_type": "execute_result"
    }
   ],
   "source": [
    "standard_predictions_error / surrogate_model_predictions_error"
   ]
  },
  {
   "cell_type": "code",
   "execution_count": 20,
   "metadata": {},
   "outputs": [
    {
     "data": {
      "text/plain": [
       "1.3224892333664882"
      ]
     },
     "execution_count": 20,
     "metadata": {},
     "output_type": "execute_result"
    }
   ],
   "source": [
    "standard_predictions_error / best_score"
   ]
  }
 ],
 "metadata": {
  "kernelspec": {
   "display_name": "Python 3",
   "language": "python",
   "name": "python3"
  },
  "language_info": {
   "codemirror_mode": {
    "name": "ipython",
    "version": 3
   },
   "file_extension": ".py",
   "mimetype": "text/x-python",
   "name": "python",
   "nbconvert_exporter": "python",
   "pygments_lexer": "ipython3",
   "version": "3.7.1"
  }
 },
 "nbformat": 4,
 "nbformat_minor": 2
}
