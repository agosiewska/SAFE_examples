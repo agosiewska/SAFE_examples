{
 "cells": [
  {
   "cell_type": "code",
   "execution_count": 219,
   "metadata": {},
   "outputs": [],
   "source": [
    "from SafeTransformer import SafeTransformer\n",
    "from xgboost import XGBClassifier\n",
    "from sklearn.linear_model import LogisticRegression\n",
    "import pandas as pd\n",
    "import numpy as np\n",
    "from sklearn.model_selection import train_test_split\n",
    "from sklearn.metrics import accuracy_score\n",
    "from sklearn.pipeline import Pipeline\n",
    "import random\n",
    "import matplotlib.pyplot as plt\n",
    "from copy import deepcopy\n",
    "from math import floor, fmod"
   ]
  },
  {
   "cell_type": "code",
   "execution_count": 220,
   "metadata": {},
   "outputs": [],
   "source": [
    "def y_function(value1, value2):\n",
    "    if value1 < -3:\n",
    "        if value2  < 3:\n",
    "            return 0\n",
    "        else:\n",
    "            return 1\n",
    "    if value1 > 3:\n",
    "        if value2 < 3:\n",
    "            return 1\n",
    "        else:\n",
    "            return 0\n",
    "    if value2 < 3:\n",
    "        return 0\n",
    "    else:\n",
    "        return 1   "
   ]
  },
  {
   "cell_type": "code",
   "execution_count": 221,
   "metadata": {},
   "outputs": [],
   "source": [
    "n = 500"
   ]
  },
  {
   "cell_type": "code",
   "execution_count": 222,
   "metadata": {},
   "outputs": [],
   "source": [
    "X2_orig = np.random.uniform(low=0, high=40, size=n)\n",
    "\n",
    "X2_factors_40 = []\n",
    "for i in range(n):\n",
    "    X2_factors_40.append(floor(X2_orig[i]))\n",
    "\n",
    "    X2_factors_5 = []\n",
    "for i in range(n):\n",
    "    X2_factors_5.append(fmod(X2_factors_40[i], 5))"
   ]
  },
  {
   "cell_type": "code",
   "execution_count": 223,
   "metadata": {},
   "outputs": [],
   "source": [
    "np.random.seed(123)\n",
    "X_Artif = pd.DataFrame(data={\n",
    "    'X1': np.linspace(-5, 5, n),\n",
    "    'X2': X2_factors_40})\n",
    "y = pd.Series(map(lambda value: y_function(value[0], value[1]), zip(X_Artif['X1'], X2_factors_5\n",
    "                                                                   )))\n"
   ]
  },
  {
   "cell_type": "code",
   "execution_count": 224,
   "metadata": {},
   "outputs": [
    {
     "data": {
      "text/html": [
       "<div>\n",
       "<style scoped>\n",
       "    .dataframe tbody tr th:only-of-type {\n",
       "        vertical-align: middle;\n",
       "    }\n",
       "\n",
       "    .dataframe tbody tr th {\n",
       "        vertical-align: top;\n",
       "    }\n",
       "\n",
       "    .dataframe thead th {\n",
       "        text-align: right;\n",
       "    }\n",
       "</style>\n",
       "<table border=\"1\" class=\"dataframe\">\n",
       "  <thead>\n",
       "    <tr style=\"text-align: right;\">\n",
       "      <th></th>\n",
       "      <th>X1</th>\n",
       "      <th>X2</th>\n",
       "    </tr>\n",
       "  </thead>\n",
       "  <tbody>\n",
       "    <tr>\n",
       "      <th>0</th>\n",
       "      <td>-5.217126</td>\n",
       "      <td>A20</td>\n",
       "    </tr>\n",
       "    <tr>\n",
       "      <th>1</th>\n",
       "      <td>-4.780491</td>\n",
       "      <td>A23</td>\n",
       "    </tr>\n",
       "    <tr>\n",
       "      <th>2</th>\n",
       "      <td>-4.903324</td>\n",
       "      <td>A0</td>\n",
       "    </tr>\n",
       "    <tr>\n",
       "      <th>3</th>\n",
       "      <td>-5.241139</td>\n",
       "      <td>A20</td>\n",
       "    </tr>\n",
       "    <tr>\n",
       "      <th>4</th>\n",
       "      <td>-5.035560</td>\n",
       "      <td>A9</td>\n",
       "    </tr>\n",
       "  </tbody>\n",
       "</table>\n",
       "</div>"
      ],
      "text/plain": [
       "         X1   X2\n",
       "0 -5.217126  A20\n",
       "1 -4.780491  A23\n",
       "2 -4.903324   A0\n",
       "3 -5.241139  A20\n",
       "4 -5.035560   A9"
      ]
     },
     "execution_count": 224,
     "metadata": {},
     "output_type": "execute_result"
    }
   ],
   "source": [
    "X_Artif['X1'] = X_Artif['X1'] + np.random.normal(size=n, scale=0.2)\n",
    "X_Artif['X2'] = 'A' + X_Artif['X2'].astype(str)\n",
    "X_Artif['X2'] = X_Artif['X2'].astype('category')\n",
    "X_Artif.head()"
   ]
  },
  {
   "cell_type": "code",
   "execution_count": 225,
   "metadata": {},
   "outputs": [
    {
     "data": {
      "text/plain": [
       "X1     float64\n",
       "X2    category\n",
       "dtype: object"
      ]
     },
     "execution_count": 225,
     "metadata": {},
     "output_type": "execute_result"
    }
   ],
   "source": [
    "X_Artif.dtypes"
   ]
  },
  {
   "cell_type": "code",
   "execution_count": 226,
   "metadata": {},
   "outputs": [],
   "source": [
    "X_train, X_test, X_lin_train, X_lin_test, y_train, y_test = train_test_split(X_Artif, X, y)"
   ]
  },
  {
   "cell_type": "code",
   "execution_count": 227,
   "metadata": {},
   "outputs": [
    {
     "name": "stdout",
     "output_type": "stream",
     "text": [
      "0.776\n"
     ]
    }
   ],
   "source": [
    "logistic_model = LogisticRegression(solver = 'lbfgs')\n",
    "logistic_model = logistic_model.fit(X_lin_train, y_train)\n",
    "standard_predictions = logistic_model.predict(X_lin_test)\n",
    "print(accuracy_score(y_test, standard_predictions))"
   ]
  },
  {
   "cell_type": "code",
   "execution_count": 228,
   "metadata": {},
   "outputs": [
    {
     "name": "stdout",
     "output_type": "stream",
     "text": [
      "0.728\n"
     ]
    }
   ],
   "source": [
    "surrogate_model = XGBClassifier(random_state = 123)\n",
    "surrogate_model = surrogate_model.fit(X_lin_train, y_train)\n",
    "surrogate_model_predictions = surrogate_model.predict(X_lin_test)\n",
    "print(accuracy_score(y_test, surrogate_model_predictions))"
   ]
  },
  {
   "cell_type": "code",
   "execution_count": 229,
   "metadata": {},
   "outputs": [
    {
     "name": "stdout",
     "output_type": "stream",
     "text": [
      "[0.01, 0.776]\n",
      "[0.42625, 0.856]\n",
      "[0.8425, 0.856]\n",
      "[1.25875, 0.856]\n",
      "[1.675, 0.856]\n",
      "[2.0912499999999996, 0.856]\n",
      "[2.5075, 0.856]\n",
      "[2.92375, 0.856]\n",
      "[3.34, 0.856]\n",
      "[3.7562499999999996, 0.856]\n",
      "[4.172499999999999, 0.856]\n",
      "[4.58875, 0.856]\n",
      "[5.005, 0.856]\n",
      "[5.42125, 0.856]\n",
      "[5.8375, 0.856]\n",
      "[6.25375, 0.856]\n",
      "[6.67, 0.856]\n",
      "[7.08625, 0.856]\n",
      "[7.5024999999999995, 0.856]\n",
      "[7.91875, 0.856]\n",
      "[8.334999999999999, 0.856]\n",
      "[8.75125, 0.856]\n",
      "[9.1675, 0.856]\n",
      "[9.58375, 0.856]\n",
      "[10.0, 0.856]\n"
     ]
    }
   ],
   "source": [
    "pens = np.linspace(0.01, 10, 25)\n",
    "best_score = float('-Inf')\n",
    "best_pen = 0\n",
    "aucs = []\n",
    "\n",
    "for pen in pens:\n",
    "    surrogate_model = XGBClassifier(random_state = 123)\n",
    "    logistic_model_simple = LogisticRegression(solver = 'lbfgs')\n",
    "    safe_transformer = SafeTransformer(surrogate_model, penalty = pen)\n",
    "    pipe = Pipeline(steps=[('safe', safe_transformer), ('linear', logistic_model_simple)])\n",
    "    pipe = pipe.fit(X_train, y_train)\n",
    "    predictions = pipe.predict(X_test)\n",
    "    auc = accuracy_score(y_test, predictions)\n",
    "    aucs.append(auc)\n",
    "    print([pen,auc])\n",
    "    if auc > best_score:\n",
    "        best_transformer = deepcopy(safe_transformer)\n",
    "        best_model = deepcopy(logistic_model_simple)\n",
    "        best_score = auc\n",
    "        best_pen = pen"
   ]
  },
  {
   "cell_type": "code",
   "execution_count": 230,
   "metadata": {},
   "outputs": [
    {
     "name": "stdout",
     "output_type": "stream",
     "text": [
      "Numerical Variable X1\n",
      "Selected intervals:\n",
      "\t[-Inf, -1.81)\n",
      "\t[-1.81, 0.73)\n",
      "\t[0.73, 2.64)\n",
      "\t[2.64, 3.70)\n",
      "\t[3.70, Inf)\n",
      "Categorical Variable X2\n",
      "Created variable levels:\n",
      "\tA0, A1, A10, A12, A15, A16, A17, A20, A21, A22, A24, A25, A26, A27, A30, A31, A32, A35, A36, A37, A5, A6, A7 -> A0_A1_A10_A12_A15_A16_A17_A20_A21_A22_A24_A25_A26_A27_A30_A31_A32_A35_A36_A37_A5_A6_A7\n",
      "\tA11, A2 -> A11_A2\n",
      "\tA13, A18, A29, A3, A8 -> A13_A18_A29_A3_A8\n",
      "\tA14, A23, A28, A33, A34, A38 -> A14_A23_A28_A33_A34_A38\n",
      "\tA19, A39, A4, A9 -> A19_A39_A4_A9\n",
      "\n"
     ]
    }
   ],
   "source": [
    "best_transformer.summary()"
   ]
  }
 ],
 "metadata": {
  "kernelspec": {
   "display_name": "Python 3",
   "language": "python",
   "name": "python3"
  },
  "language_info": {
   "codemirror_mode": {
    "name": "ipython",
    "version": 3
   },
   "file_extension": ".py",
   "mimetype": "text/x-python",
   "name": "python",
   "nbconvert_exporter": "python",
   "pygments_lexer": "ipython3",
   "version": "3.7.1"
  }
 },
 "nbformat": 4,
 "nbformat_minor": 2
}
