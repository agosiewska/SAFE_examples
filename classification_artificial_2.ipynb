{
 "cells": [
  {
   "cell_type": "code",
   "execution_count": 1,
   "metadata": {},
   "outputs": [],
   "source": [
    "from SafeTransformer import SafeTransformer\n",
    "from sklearn.ensemble import GradientBoostingClassifier\n",
    "from sklearn.linear_model import LogisticRegression\n",
    "import pandas as pd\n",
    "import numpy as np\n",
    "from sklearn.model_selection import train_test_split\n",
    "from sklearn.metrics import accuracy_score\n",
    "from sklearn.pipeline import Pipeline\n",
    "import random\n",
    "from sklearn.metrics import auc\n",
    "import matplotlib.pyplot as plt\n",
    "from copy import deepcopy\n",
    "from math import floor, fmod, log\n",
    "from scipy.special import logit\n",
    "from sklearn import metrics\n",
    "from sklearn.ensemble.partial_dependence import plot_partial_dependence"
   ]
  },
  {
   "cell_type": "code",
   "execution_count": 2,
   "metadata": {},
   "outputs": [],
   "source": [
    "def y_function(value1, value2):\n",
    "    if value1 < -3:\n",
    "        if value2  <= 3:\n",
    "            return 0\n",
    "        else:\n",
    "            return 1\n",
    "    if value1 < 2.5:\n",
    "        if value2 >= 2:\n",
    "            return 1\n",
    "        else:\n",
    "            return 0\n",
    "    if value2 < 4:\n",
    "        return 0\n",
    "    else:\n",
    "        return 1"
   ]
  },
  {
   "cell_type": "code",
   "execution_count": 3,
   "metadata": {},
   "outputs": [],
   "source": [
    "n = 500"
   ]
  },
  {
   "cell_type": "code",
   "execution_count": 4,
   "metadata": {},
   "outputs": [],
   "source": [
    "np.random.seed(123)\n",
    "X2_orig = np.random.uniform(low=0, high=40, size=n)\n",
    "\n",
    "X2_factors_40 = []\n",
    "for i in range(n):\n",
    "    X2_factors_40.append(floor(X2_orig[i]))\n",
    "\n",
    "    X2_factors_5 = []\n",
    "for i in range(n):\n",
    "    X2_factors_5.append(fmod(X2_factors_40[i], 5))"
   ]
  },
  {
   "cell_type": "code",
   "execution_count": 5,
   "metadata": {},
   "outputs": [],
   "source": [
    "np.random.seed(123)\n",
    "X_Artif = pd.DataFrame(data={\n",
    "    'X1': np.linspace(-5, 5, n),\n",
    "    'X2': X2_factors_40})\n",
    "y = pd.Series(map(lambda value: y_function(value[0], value[1]), zip(X_Artif['X1'], X2_factors_5\n",
    "                                                                   )))\n"
   ]
  },
  {
   "cell_type": "code",
   "execution_count": 6,
   "metadata": {},
   "outputs": [
    {
     "data": {
      "text/html": [
       "<div>\n",
       "<style scoped>\n",
       "    .dataframe tbody tr th:only-of-type {\n",
       "        vertical-align: middle;\n",
       "    }\n",
       "\n",
       "    .dataframe tbody tr th {\n",
       "        vertical-align: top;\n",
       "    }\n",
       "\n",
       "    .dataframe thead th {\n",
       "        text-align: right;\n",
       "    }\n",
       "</style>\n",
       "<table border=\"1\" class=\"dataframe\">\n",
       "  <thead>\n",
       "    <tr style=\"text-align: right;\">\n",
       "      <th></th>\n",
       "      <th>X1</th>\n",
       "      <th>X2</th>\n",
       "    </tr>\n",
       "  </thead>\n",
       "  <tbody>\n",
       "    <tr>\n",
       "      <th>0</th>\n",
       "      <td>-5.141132</td>\n",
       "      <td>A27</td>\n",
       "    </tr>\n",
       "    <tr>\n",
       "      <th>1</th>\n",
       "      <td>-4.850305</td>\n",
       "      <td>A11</td>\n",
       "    </tr>\n",
       "    <tr>\n",
       "      <th>2</th>\n",
       "      <td>-4.923133</td>\n",
       "      <td>A9</td>\n",
       "    </tr>\n",
       "    <tr>\n",
       "      <th>3</th>\n",
       "      <td>-5.135698</td>\n",
       "      <td>A22</td>\n",
       "    </tr>\n",
       "    <tr>\n",
       "      <th>4</th>\n",
       "      <td>-4.995058</td>\n",
       "      <td>A28</td>\n",
       "    </tr>\n",
       "  </tbody>\n",
       "</table>\n",
       "</div>"
      ],
      "text/plain": [
       "         X1   X2\n",
       "0 -5.141132  A27\n",
       "1 -4.850305  A11\n",
       "2 -4.923133   A9\n",
       "3 -5.135698  A22\n",
       "4 -4.995058  A28"
      ]
     },
     "execution_count": 6,
     "metadata": {},
     "output_type": "execute_result"
    }
   ],
   "source": [
    "X_Artif['X1'] = X_Artif['X1'] + np.random.normal(size=n, scale=0.13)\n",
    "X_Artif['X2'] = 'A' + X_Artif['X2'].astype(str)\n",
    "X_Artif['X2'] = X_Artif['X2'].astype('category')\n",
    "X_Artif.head()"
   ]
  },
  {
   "cell_type": "code",
   "execution_count": 7,
   "metadata": {},
   "outputs": [
    {
     "data": {
      "text/plain": [
       "X1     float64\n",
       "X2    category\n",
       "dtype: object"
      ]
     },
     "execution_count": 7,
     "metadata": {},
     "output_type": "execute_result"
    }
   ],
   "source": [
    "X_Artif.dtypes"
   ]
  },
  {
   "cell_type": "code",
   "execution_count": 8,
   "metadata": {},
   "outputs": [],
   "source": [
    "X = X_Artif.copy()\n",
    "colnames = list(X)\n",
    "for idx, name in enumerate(colnames):\n",
    "    if str(X.loc[:, name].dtype) in ['category', 'object']:\n",
    "        dummies = pd.get_dummies(X.loc[:, name], prefix=name, drop_first=True)\n",
    "        dummy_index  = X.columns.get_loc(name)\n",
    "        X = pd.concat([X.iloc[:,range(dummy_index)], dummies, X.iloc[:, range(dummy_index+1, len(X.columns))]], axis=1)"
   ]
  },
  {
   "cell_type": "code",
   "execution_count": 9,
   "metadata": {},
   "outputs": [],
   "source": [
    "X_train, X_test, X_lin_train, X_lin_test, y_train, y_test = train_test_split(X_Artif, X, y, random_state = 123)"
   ]
  },
  {
   "cell_type": "code",
   "execution_count": 10,
   "metadata": {},
   "outputs": [
    {
     "name": "stdout",
     "output_type": "stream",
     "text": [
      "0.736\n"
     ]
    },
    {
     "data": {
      "text/plain": [
       "0.8968253968253967"
      ]
     },
     "execution_count": 10,
     "metadata": {},
     "output_type": "execute_result"
    }
   ],
   "source": [
    "logistic_model = LogisticRegression(solver = 'lbfgs')\n",
    "logistic_model = logistic_model.fit(X_lin_train, y_train)\n",
    "standard_predictions = logistic_model.predict(X_lin_test)\n",
    "print(accuracy_score(y_test, standard_predictions))\n",
    "\n",
    "pred = logistic_model.predict_proba(X_lin_test)[:,1]\n",
    "fpr, tpr, thresholds = metrics.roc_curve(y_test, pred, pos_label=1)\n",
    "metrics.auc(fpr, tpr)"
   ]
  },
  {
   "cell_type": "code",
   "execution_count": 11,
   "metadata": {},
   "outputs": [
    {
     "name": "stdout",
     "output_type": "stream",
     "text": [
      "0.96\n"
     ]
    },
    {
     "data": {
      "text/plain": [
       "0.9824628776241678"
      ]
     },
     "execution_count": 11,
     "metadata": {},
     "output_type": "execute_result"
    }
   ],
   "source": [
    "surrogate_model = GradientBoostingClassifier(random_state = 123)\n",
    "surrogate_model = surrogate_model.fit(X_lin_train, y_train)\n",
    "surrogate_model_predictions = surrogate_model.predict(X_lin_test)\n",
    "print(accuracy_score(y_test, surrogate_model_predictions))\n",
    "\n",
    "pred = surrogate_model.predict_proba(X_lin_test)[:,1]\n",
    "fpr, tpr, thresholds = metrics.roc_curve(y_test, pred, pos_label=1)\n",
    "metrics.auc(fpr, tpr)"
   ]
  },
  {
   "cell_type": "code",
   "execution_count": 12,
   "metadata": {},
   "outputs": [
    {
     "name": "stdout",
     "output_type": "stream",
     "text": [
      "[0.01, 0.976, 0.9891193036354327]\n",
      "[0.42625, 0.976, 0.989247311827957]\n",
      "[0.8425, 0.976, 0.989247311827957]\n",
      "[1.25875, 0.976, 0.989247311827957]\n",
      "[1.675, 0.976, 0.989247311827957]\n",
      "[2.0912499999999996, 0.976, 0.989247311827957]\n",
      "[2.5075, 0.976, 0.989247311827957]\n",
      "[2.92375, 0.976, 0.989247311827957]\n",
      "[3.34, 0.976, 0.989247311827957]\n",
      "[3.7562499999999996, 0.976, 0.989247311827957]\n",
      "[4.172499999999999, 0.976, 0.989247311827957]\n",
      "[4.58875, 0.976, 0.989247311827957]\n",
      "[5.005, 0.976, 0.989247311827957]\n",
      "[5.42125, 0.976, 0.989247311827957]\n",
      "[5.8375, 0.976, 0.989247311827957]\n",
      "[6.25375, 0.976, 0.989247311827957]\n",
      "[6.67, 0.976, 0.989247311827957]\n",
      "[7.08625, 0.976, 0.989247311827957]\n",
      "[7.5024999999999995, 0.976, 0.989247311827957]\n",
      "[7.91875, 0.976, 0.989247311827957]\n",
      "[8.334999999999999, 0.976, 0.989247311827957]\n",
      "[8.75125, 0.976, 0.989247311827957]\n",
      "[9.1675, 0.976, 0.989247311827957]\n",
      "[9.58375, 0.976, 0.989247311827957]\n",
      "[10.0, 0.976, 0.989247311827957]\n"
     ]
    }
   ],
   "source": [
    "pens = np.linspace(0.01, 10, 25)\n",
    "best_auc = float('-Inf')\n",
    "best_acc = float('-Inf')\n",
    "best_auc_pen = 0\n",
    "best_acc_pen = 0\n",
    "aucs = []\n",
    "accs = []\n",
    "\n",
    "for pen in pens:\n",
    "    surrogate_model = GradientBoostingClassifier(random_state = 123)\n",
    "    logistic_model_simple = LogisticRegression(solver = 'lbfgs')\n",
    "    safe_transformer = SafeTransformer(surrogate_model, penalty = pen)\n",
    "    pipe = Pipeline(steps=[('safe', safe_transformer), ('linear', logistic_model_simple)])\n",
    "    pipe = pipe.fit(X_train, y_train)\n",
    "    predictions = pipe.predict(X_test)\n",
    "    acc = accuracy_score(y_test, predictions)\n",
    "    accs.append(acc)\n",
    "    \n",
    "    pred = pipe.predict_proba(X_test)[:,1]\n",
    "    fpr, tpr, thresholds = metrics.roc_curve(y_test, pred, pos_label=1)\n",
    "    auc = metrics.auc(fpr, tpr)\n",
    "    aucs.append(auc)\n",
    "    \n",
    "    print([pen, acc, auc])\n",
    "    if acc > best_acc:\n",
    "        best_acc_transformer = deepcopy(safe_transformer)\n",
    "        best_acc_model = deepcopy(logistic_model_simple)\n",
    "        best_acc = acc\n",
    "        best_acc_pen = pen\n",
    "        \n",
    "    if auc > best_auc:\n",
    "        best_auc_transformer = deepcopy(safe_transformer)\n",
    "        best_auc_model = deepcopy(logistic_model_simple)\n",
    "        best_auc = auc\n",
    "        best_auc_pen = pen"
   ]
  },
  {
   "cell_type": "code",
   "execution_count": 13,
   "metadata": {},
   "outputs": [
    {
     "data": {
      "text/plain": [
       "0.989247311827957"
      ]
     },
     "execution_count": 13,
     "metadata": {},
     "output_type": "execute_result"
    }
   ],
   "source": [
    "best_auc"
   ]
  },
  {
   "cell_type": "code",
   "execution_count": 14,
   "metadata": {},
   "outputs": [
    {
     "data": {
      "text/plain": [
       "0.976"
      ]
     },
     "execution_count": 14,
     "metadata": {},
     "output_type": "execute_result"
    }
   ],
   "source": [
    "best_acc"
   ]
  },
  {
   "cell_type": "code",
   "execution_count": 15,
   "metadata": {},
   "outputs": [
    {
     "data": {
      "text/plain": [
       "0.42625"
      ]
     },
     "execution_count": 15,
     "metadata": {},
     "output_type": "execute_result"
    }
   ],
   "source": [
    "best_auc_pen"
   ]
  },
  {
   "cell_type": "code",
   "execution_count": 22,
   "metadata": {},
   "outputs": [
    {
     "name": "stderr",
     "output_type": "stream",
     "text": [
      "/home/alicja/anaconda3/lib/python3.7/site-packages/matplotlib/figure.py:98: MatplotlibDeprecationWarning: \n",
      "Adding an axes using the same arguments as a previous axes currently reuses the earlier instance.  In a future version, a new instance will always be created and returned.  Meanwhile, this warning can be suppressed, and the future behavior ensured, by passing a unique label to each axes instance.\n",
      "  \"Adding an axes using the same arguments as a previous axes \"\n"
     ]
    },
    {
     "data": {
      "image/png": "[encoded data removed]",
      "text/plain": [
       "<Figure size 576x576 with 1 Axes>"
      ]
     },
     "metadata": {
      "needs_background": "light"
     },
     "output_type": "display_data"
    }
   ],
   "source": [
    "plt.rcParams[\"figure.figsize\"] = [8, 8]\n",
    "f, axis = plot_partial_dependence(surrogate_model, X, [0],\n",
    "                                 line_kw = {\"linewidth\": 3}) \n",
    "plt.axvline(-2.93, c = \"black\", linewidth=3.0)\n",
    "plt.axvline(2.46, c = \"black\",  linewidth=3.0)\n",
    "plt.ylim(-1.3, 0.9)\n",
    "plt.xlim(-4.55, 4.5)\n",
    "plt.xlabel('X1')\n",
    "plt.grid(True)\n",
    "plt.xticks(fontsize=16)\n",
    "plt.yticks(fontsize=16)\n",
    "plt.ylabel(\"Partial dependence\", fontsize=16)\n",
    "plt.xlabel(\"X1\", fontsize=16)\n",
    "ax = f.add_subplot(1, 1, 1)\n",
    "ax.set_yticks(np.arange(-1.25, 1, 0.5))\n",
    "\n",
    "f.savefig(\"clasification_PDP_X2.pdf\", bbox_inches='tight')"
   ]
  },
  {
   "cell_type": "code",
   "execution_count": 17,
   "metadata": {},
   "outputs": [
    {
     "name": "stdout",
     "output_type": "stream",
     "text": [
      "Numerical Variable X1\n",
      "Selected intervals:\n",
      "\t[-Inf, -2.93)\n",
      "\t[-2.93, 2.46)\n",
      "\t[2.46, Inf)\n",
      "Categorical Variable X2\n",
      "Created variable levels:\n",
      "\tA0, A12, A13, A17, A18, A2, A22, A23, A27, A28, A3, A32, A33, A37, A38, A7, A8 -> A0_A12_A13_A17_A18_A2_A22_A23_A27_A28_A3_A32_A33_A37_A38_A7_A8\n",
      "\tA1, A10, A11, A15, A16, A20, A21, A25, A26, A30, A31, A35, A36, A5, A6 -> A1_A10_A11_A15_A16_A20_A21_A25_A26_A30_A31_A35_A36_A5_A6\n",
      "\tA14, A19, A24, A29, A34, A39, A4, A9 -> A14_A19_A24_A29_A34_A39_A4_A9\n",
      "\n"
     ]
    }
   ],
   "source": [
    "best_auc_transformer.summary()"
   ]
  }
 ],
 "metadata": {
  "kernelspec": {
   "display_name": "Python 3",
   "language": "python",
   "name": "python3"
  },
  "language_info": {
   "codemirror_mode": {
    "name": "ipython",
    "version": 3
   },
   "file_extension": ".py",
   "mimetype": "text/x-python",
   "name": "python",
   "nbconvert_exporter": "python",
   "pygments_lexer": "ipython3",
   "version": "3.7.1"
  }
 },
 "nbformat": 4,
 "nbformat_minor": 2
}
