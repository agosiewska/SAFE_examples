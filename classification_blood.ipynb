{
 "cells": [
  {
   "cell_type": "code",
   "execution_count": 1,
   "metadata": {},
   "outputs": [],
   "source": [
    "from SafeTransformer import SafeTransformer\n",
    "from sklearn.ensemble import GradientBoostingClassifier\n",
    "from sklearn.linear_model import LogisticRegression\n",
    "from sklearn.tree import DecisionTreeClassifier\n",
    "import pandas as pd\n",
    "import numpy as np\n",
    "from sklearn.model_selection import train_test_split\n",
    "from sklearn.metrics import accuracy_score\n",
    "from sklearn.pipeline import Pipeline\n",
    "import random\n",
    "from sklearn.metrics import auc\n",
    "import matplotlib.pyplot as plt\n",
    "from copy import deepcopy\n",
    "from math import floor, fmod, log\n",
    "from scipy.special import logit\n",
    "from sklearn import metrics\n",
    "from sklearn.ensemble.partial_dependence import plot_partial_dependence"
   ]
  },
  {
   "cell_type": "code",
   "execution_count": 3,
   "metadata": {},
   "outputs": [],
   "source": [
    "blood = pd.read_csv(\"blood.csv\")\n",
    "blood.head()\n",
    "y = blood[\"whether he/she donated blood in March 2007\"]\n",
    "X = blood.drop([\"whether he/she donated blood in March 2007\"], axis=1)"
   ]
  },
  {
   "cell_type": "code",
   "execution_count": 4,
   "metadata": {},
   "outputs": [],
   "source": [
    "X_train, X_test, y_train, y_test = train_test_split(X, y, random_state = 123)"
   ]
  },
  {
   "cell_type": "markdown",
   "metadata": {},
   "source": [
    "# SAFE - logistic regression"
   ]
  },
  {
   "cell_type": "code",
   "execution_count": 5,
   "metadata": {},
   "outputs": [
    {
     "name": "stdout",
     "output_type": "stream",
     "text": [
      "0.7486631016042781\n"
     ]
    },
    {
     "data": {
      "text/plain": [
       "0.6703647416413374"
      ]
     },
     "execution_count": 5,
     "metadata": {},
     "output_type": "execute_result"
    }
   ],
   "source": [
    "logistic_model = LogisticRegression(solver = 'lbfgs')\n",
    "logistic_model = logistic_model.fit(X_train, y_train)\n",
    "standard_predictions = logistic_model.predict(X_test)\n",
    "print(accuracy_score(y_test, standard_predictions))\n",
    "\n",
    "pred = logistic_model.predict_proba(X_test)[:,1]\n",
    "fpr, tpr, thresholds = metrics.roc_curve(y_test, pred, pos_label=1)\n",
    "metrics.auc(fpr, tpr)"
   ]
  },
  {
   "cell_type": "code",
   "execution_count": 44,
   "metadata": {},
   "outputs": [
    {
     "name": "stdout",
     "output_type": "stream",
     "text": [
      "0.7540106951871658\n"
     ]
    },
    {
     "data": {
      "text/plain": [
       "0.6787234042553192"
      ]
     },
     "execution_count": 44,
     "metadata": {},
     "output_type": "execute_result"
    }
   ],
   "source": [
    "surrogate_model = GradientBoostingClassifier(random_state = 123,\n",
    "                    n_estimators = 500, learning_rate = 0.11)\n",
    "surrogate_model = surrogate_model.fit(X_train, y_train)\n",
    "surrogate_model_predictions = surrogate_model.predict(X_test)\n",
    "print(accuracy_score(y_test, surrogate_model_predictions))\n",
    "\n",
    "pred = surrogate_model.predict_proba(X_test)[:,1]\n",
    "fpr, tpr, thresholds = metrics.roc_curve(y_test, pred, pos_label=1)\n",
    "metrics.auc(fpr, tpr)"
   ]
  },
  {
   "cell_type": "code",
   "execution_count": 45,
   "metadata": {},
   "outputs": [
    {
     "name": "stdout",
     "output_type": "stream",
     "text": [
      "[0.01, 0.7486631016042781, 0.6581306990881459]\n",
      "[0.42625, 0.7540106951871658, 0.6388297872340425]\n",
      "[0.8425, 0.7540106951871658, 0.6472644376899696]\n",
      "[1.25875, 0.7593582887700535, 0.6677811550151977]\n",
      "[1.675, 0.7486631016042781, 0.6186170212765958]\n",
      "[2.0912499999999996, 0.7486631016042781, 0.5526595744680851]\n",
      "[2.5075, 0.7540106951871658, 0.5531155015197569]\n",
      "[2.92375, 0.7540106951871658, 0.5477203647416413]\n",
      "[3.34, 0.7540106951871658, 0.5477203647416413]\n",
      "[3.7562499999999996, 0.7540106951871658, 0.5477203647416413]\n",
      "[4.172499999999999, 0.7540106951871658, 0.5433890577507599]\n",
      "[4.58875, 0.7540106951871658, 0.5433890577507599]\n",
      "[5.005, 0.7540106951871658, 0.5433890577507599]\n",
      "[5.42125, 0.7540106951871658, 0.5433890577507599]\n",
      "[5.8375, 0.7540106951871658, 0.5433890577507599]\n",
      "[6.25375, 0.7540106951871658, 0.5433890577507599]\n",
      "[6.67, 0.7540106951871658, 0.5433890577507599]\n",
      "[7.08625, 0.7540106951871658, 0.5433890577507599]\n",
      "[7.5024999999999995, 0.7540106951871658, 0.5433890577507599]\n",
      "[7.91875, 0.7540106951871658, 0.5433890577507599]\n",
      "[8.334999999999999, 0.7540106951871658, 0.5433890577507599]\n",
      "[8.75125, 0.7540106951871658, 0.5433890577507599]\n",
      "[9.1675, 0.7486631016042781, 0.5161094224924012]\n",
      "[9.58375, 0.7486631016042781, 0.5379939209726443]\n",
      "[10.0, 0.7486631016042781, 0.5379939209726443]\n"
     ]
    }
   ],
   "source": [
    "pens = np.linspace(0.01, 10, 25)\n",
    "best_auc = float('-Inf')\n",
    "best_acc = float('-Inf')\n",
    "best_auc_pen = 0\n",
    "best_acc_pen = 0\n",
    "aucs = []\n",
    "accs = []\n",
    "\n",
    "for pen in pens:\n",
    "    surrogate_model = GradientBoostingClassifier(random_state = 123)\n",
    "    logistic_model_simple = LogisticRegression(solver = 'lbfgs')\n",
    "    safe_transformer = SafeTransformer(surrogate_model, penalty = pen)\n",
    "    pipe = Pipeline(steps=[('safe', safe_transformer), ('linear', logistic_model_simple)])\n",
    "    pipe = pipe.fit(X_train, y_train)\n",
    "    predictions = pipe.predict(X_test)\n",
    "    acc = accuracy_score(y_test, predictions)\n",
    "    accs.append(acc)\n",
    "    \n",
    "    pred = pipe.predict_proba(X_test)[:,1]\n",
    "    fpr, tpr, thresholds = metrics.roc_curve(y_test, pred, pos_label=1)\n",
    "    auc = metrics.auc(fpr, tpr)\n",
    "    aucs.append(auc)\n",
    "    \n",
    "    print([pen, acc, auc])\n",
    "    if acc > best_acc:\n",
    "        best_acc_transformer = deepcopy(safe_transformer)\n",
    "        best_acc_model = deepcopy(logistic_model_simple)\n",
    "        best_acc = acc\n",
    "        best_acc_pen = pen\n",
    "        \n",
    "    if auc > best_auc:\n",
    "        best_auc_transformer = deepcopy(safe_transformer)\n",
    "        best_auc_model = deepcopy(logistic_model_simple)\n",
    "        best_auc = auc\n",
    "        best_auc_pen = pen"
   ]
  },
  {
   "cell_type": "code",
   "execution_count": 46,
   "metadata": {},
   "outputs": [
    {
     "data": {
      "text/plain": [
       "0.6677811550151977"
      ]
     },
     "execution_count": 46,
     "metadata": {},
     "output_type": "execute_result"
    }
   ],
   "source": [
    "best_auc"
   ]
  },
  {
   "cell_type": "code",
   "execution_count": 47,
   "metadata": {},
   "outputs": [
    {
     "data": {
      "text/plain": [
       "0.7593582887700535"
      ]
     },
     "execution_count": 47,
     "metadata": {},
     "output_type": "execute_result"
    }
   ],
   "source": [
    "best_acc"
   ]
  },
  {
   "cell_type": "markdown",
   "metadata": {},
   "source": [
    "# SAFE trees"
   ]
  },
  {
   "cell_type": "code",
   "execution_count": 48,
   "metadata": {},
   "outputs": [
    {
     "name": "stdout",
     "output_type": "stream",
     "text": [
      "0.7379679144385026\n"
     ]
    },
    {
     "data": {
      "text/plain": [
       "0.5981762917933131"
      ]
     },
     "execution_count": 48,
     "metadata": {},
     "output_type": "execute_result"
    }
   ],
   "source": [
    "tree_model = DecisionTreeClassifier(random_state=123)\n",
    "tree_model = tree_model.fit(X_train, y_train)\n",
    "standard_predictions = tree_model.predict(X_test)\n",
    "print(accuracy_score(y_test, standard_predictions))\n",
    "\n",
    "pred = tree_model.predict_proba(X_test)[:,1]\n",
    "fpr, tpr, thresholds = metrics.roc_curve(y_test, pred, pos_label=1)\n",
    "metrics.auc(fpr, tpr)"
   ]
  },
  {
   "cell_type": "code",
   "execution_count": 51,
   "metadata": {},
   "outputs": [
    {
     "name": "stdout",
     "output_type": "stream",
     "text": [
      "0.7754010695187166\n"
     ]
    },
    {
     "data": {
      "text/plain": [
       "0.6669452887537993"
      ]
     },
     "execution_count": 51,
     "metadata": {},
     "output_type": "execute_result"
    }
   ],
   "source": [
    "surrogate_model = GradientBoostingClassifier(random_state = 123)\n",
    "surrogate_model = surrogate_model.fit(X_train, y_train)\n",
    "surrogate_model_predictions = surrogate_model.predict(X_test)\n",
    "print(accuracy_score(y_test, surrogate_model_predictions))\n",
    "\n",
    "pred = surrogate_model.predict_proba(X_test)[:,1]\n",
    "fpr, tpr, thresholds = metrics.roc_curve(y_test, pred, pos_label=1)\n",
    "metrics.auc(fpr, tpr)"
   ]
  },
  {
   "cell_type": "code",
   "execution_count": 53,
   "metadata": {},
   "outputs": [
    {
     "name": "stdout",
     "output_type": "stream",
     "text": [
      "[0.01, 0.7433155080213903, 0.6070668693009118]\n",
      "[0.42625, 0.732620320855615, 0.6164893617021276]\n",
      "[0.8425, 0.7540106951871658, 0.6464285714285715]\n",
      "[1.25875, 0.7593582887700535, 0.6831306990881458]\n",
      "[1.675, 0.7486631016042781, 0.5686170212765957]\n",
      "[2.0912499999999996, 0.7486631016042781, 0.5455167173252279]\n",
      "[2.5075, 0.7540106951871658, 0.5456686930091185]\n",
      "[2.92375, 0.7540106951871658, 0.5255319148936171]\n",
      "[3.34, 0.7540106951871658, 0.5255319148936171]\n",
      "[3.7562499999999996, 0.7540106951871658, 0.5255319148936171]\n",
      "[4.172499999999999, 0.7540106951871658, 0.5291033434650455]\n",
      "[4.58875, 0.7540106951871658, 0.5291033434650455]\n",
      "[5.005, 0.7540106951871658, 0.5291033434650455]\n",
      "[5.42125, 0.7540106951871658, 0.5291033434650455]\n",
      "[5.8375, 0.7540106951871658, 0.5291033434650455]\n",
      "[6.25375, 0.7540106951871658, 0.5291033434650455]\n",
      "[6.67, 0.7540106951871658, 0.5291033434650455]\n",
      "[7.08625, 0.7540106951871658, 0.5291033434650455]\n",
      "[7.5024999999999995, 0.7540106951871658, 0.5291033434650455]\n",
      "[7.91875, 0.7540106951871658, 0.5291033434650455]\n",
      "[8.334999999999999, 0.7540106951871658, 0.5291033434650455]\n",
      "[8.75125, 0.7540106951871658, 0.5291033434650455]\n",
      "[9.1675, 0.7593582887700535, 0.5120060790273556]\n",
      "[9.58375, 0.7593582887700535, 0.5379939209726443]\n",
      "[10.0, 0.7593582887700535, 0.5379939209726443]\n"
     ]
    }
   ],
   "source": [
    "pens = np.linspace(0.01, 10, 25)\n",
    "best_auc = float('-Inf')\n",
    "best_acc = float('-Inf')\n",
    "best_auc_pen = 0\n",
    "best_acc_pen = 0\n",
    "aucs = []\n",
    "accs = []\n",
    "\n",
    "for pen in pens:\n",
    "    surrogate_model = GradientBoostingClassifier(random_state = 123)\n",
    "    tree_model_simple = DecisionTreeClassifier(random_state = 123)\n",
    "    safe_transformer = SafeTransformer(surrogate_model, penalty = pen)\n",
    "    pipe = Pipeline(steps=[('safe', safe_transformer), ('tree', tree_model_simple)])\n",
    "    pipe = pipe.fit(X_train, y_train)\n",
    "    predictions = pipe.predict(X_test)\n",
    "    acc = accuracy_score(y_test, predictions)\n",
    "    accs.append(acc)\n",
    "    \n",
    "    pred = pipe.predict_proba(X_test)[:,1]\n",
    "    fpr, tpr, thresholds = metrics.roc_curve(y_test, pred, pos_label=1)\n",
    "    auc = metrics.auc(fpr, tpr)\n",
    "    aucs.append(auc)\n",
    "    \n",
    "    print([pen, acc, auc])\n",
    "    if acc > best_acc:\n",
    "        best_acc_transformer = deepcopy(safe_transformer)\n",
    "        best_acc_model = deepcopy(tree_model_simple)\n",
    "        best_acc = acc\n",
    "        best_acc_pen = pen\n",
    "        \n",
    "    if auc > best_auc:\n",
    "        best_auc_transformer = deepcopy(safe_transformer)\n",
    "        best_auc_model = deepcopy(tree_model_simple)\n",
    "        best_auc = auc\n",
    "        best_auc_pen = pen"
   ]
  },
  {
   "cell_type": "code",
   "execution_count": 54,
   "metadata": {},
   "outputs": [
    {
     "data": {
      "text/plain": [
       "[0.7593582887700535, 0.6831306990881458]"
      ]
     },
     "execution_count": 54,
     "metadata": {},
     "output_type": "execute_result"
    }
   ],
   "source": [
    "[best_acc, best_auc]"
   ]
  },
  {
   "cell_type": "code",
   "execution_count": null,
   "metadata": {},
   "outputs": [],
   "source": []
  }
 ],
 "metadata": {
  "kernelspec": {
   "display_name": "Python 3",
   "language": "python",
   "name": "python3"
  },
  "language_info": {
   "codemirror_mode": {
    "name": "ipython",
    "version": 3
   },
   "file_extension": ".py",
   "mimetype": "text/x-python",
   "name": "python",
   "nbconvert_exporter": "python",
   "pygments_lexer": "ipython3",
   "version": "3.7.1"
  }
 },
 "nbformat": 4,
 "nbformat_minor": 2
}
