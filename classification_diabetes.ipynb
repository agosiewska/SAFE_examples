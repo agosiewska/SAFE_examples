{
 "cells": [
  {
   "cell_type": "code",
   "execution_count": 45,
   "metadata": {},
   "outputs": [],
   "source": [
    "from SafeTransformer import SafeTransformer\n",
    "from sklearn.ensemble import GradientBoostingClassifier\n",
    "from sklearn.linear_model import LogisticRegression\n",
    "from sklearn.tree import DecisionTreeClassifier\n",
    "import pandas as pd\n",
    "import numpy as np\n",
    "from sklearn.model_selection import train_test_split\n",
    "from sklearn.metrics import accuracy_score\n",
    "from sklearn.pipeline import Pipeline\n",
    "import random\n",
    "from sklearn.metrics import auc\n",
    "import matplotlib.pyplot as plt\n",
    "from copy import deepcopy\n",
    "from math import floor, fmod, log\n",
    "from scipy.special import logit\n",
    "from sklearn import metrics\n",
    "from sklearn.ensemble.partial_dependence import plot_partial_dependence"
   ]
  },
  {
   "cell_type": "code",
   "execution_count": 46,
   "metadata": {},
   "outputs": [
    {
     "data": {
      "text/html": [
       "<div>\n",
       "<style scoped>\n",
       "    .dataframe tbody tr th:only-of-type {\n",
       "        vertical-align: middle;\n",
       "    }\n",
       "\n",
       "    .dataframe tbody tr th {\n",
       "        vertical-align: top;\n",
       "    }\n",
       "\n",
       "    .dataframe thead th {\n",
       "        text-align: right;\n",
       "    }\n",
       "</style>\n",
       "<table border=\"1\" class=\"dataframe\">\n",
       "  <thead>\n",
       "    <tr style=\"text-align: right;\">\n",
       "      <th></th>\n",
       "      <th>Pregnancies</th>\n",
       "      <th>Glucose</th>\n",
       "      <th>BloodPressure</th>\n",
       "      <th>SkinThickness</th>\n",
       "      <th>Insulin</th>\n",
       "      <th>BMI</th>\n",
       "      <th>DiabetesPedigreeFunction</th>\n",
       "      <th>Age</th>\n",
       "      <th>Outcome</th>\n",
       "    </tr>\n",
       "  </thead>\n",
       "  <tbody>\n",
       "    <tr>\n",
       "      <th>0</th>\n",
       "      <td>6</td>\n",
       "      <td>148</td>\n",
       "      <td>72</td>\n",
       "      <td>35</td>\n",
       "      <td>0</td>\n",
       "      <td>33.6</td>\n",
       "      <td>0.627</td>\n",
       "      <td>50</td>\n",
       "      <td>1</td>\n",
       "    </tr>\n",
       "    <tr>\n",
       "      <th>1</th>\n",
       "      <td>1</td>\n",
       "      <td>85</td>\n",
       "      <td>66</td>\n",
       "      <td>29</td>\n",
       "      <td>0</td>\n",
       "      <td>26.6</td>\n",
       "      <td>0.351</td>\n",
       "      <td>31</td>\n",
       "      <td>0</td>\n",
       "    </tr>\n",
       "    <tr>\n",
       "      <th>2</th>\n",
       "      <td>8</td>\n",
       "      <td>183</td>\n",
       "      <td>64</td>\n",
       "      <td>0</td>\n",
       "      <td>0</td>\n",
       "      <td>23.3</td>\n",
       "      <td>0.672</td>\n",
       "      <td>32</td>\n",
       "      <td>1</td>\n",
       "    </tr>\n",
       "    <tr>\n",
       "      <th>3</th>\n",
       "      <td>1</td>\n",
       "      <td>89</td>\n",
       "      <td>66</td>\n",
       "      <td>23</td>\n",
       "      <td>94</td>\n",
       "      <td>28.1</td>\n",
       "      <td>0.167</td>\n",
       "      <td>21</td>\n",
       "      <td>0</td>\n",
       "    </tr>\n",
       "    <tr>\n",
       "      <th>4</th>\n",
       "      <td>0</td>\n",
       "      <td>137</td>\n",
       "      <td>40</td>\n",
       "      <td>35</td>\n",
       "      <td>168</td>\n",
       "      <td>43.1</td>\n",
       "      <td>2.288</td>\n",
       "      <td>33</td>\n",
       "      <td>1</td>\n",
       "    </tr>\n",
       "  </tbody>\n",
       "</table>\n",
       "</div>"
      ],
      "text/plain": [
       "   Pregnancies  Glucose  BloodPressure  SkinThickness  Insulin   BMI  \\\n",
       "0            6      148             72             35        0  33.6   \n",
       "1            1       85             66             29        0  26.6   \n",
       "2            8      183             64              0        0  23.3   \n",
       "3            1       89             66             23       94  28.1   \n",
       "4            0      137             40             35      168  43.1   \n",
       "\n",
       "   DiabetesPedigreeFunction  Age  Outcome  \n",
       "0                     0.627   50        1  \n",
       "1                     0.351   31        0  \n",
       "2                     0.672   32        1  \n",
       "3                     0.167   21        0  \n",
       "4                     2.288   33        1  "
      ]
     },
     "execution_count": 46,
     "metadata": {},
     "output_type": "execute_result"
    }
   ],
   "source": [
    "diabetes = pd.read_csv(\"diabetes.csv\")\n",
    "diabetes.head()"
   ]
  },
  {
   "cell_type": "code",
   "execution_count": 47,
   "metadata": {},
   "outputs": [],
   "source": [
    "y = diabetes[\"Outcome\"]\n",
    "X = diabetes.drop([\"Outcome\"], axis=1)"
   ]
  },
  {
   "cell_type": "code",
   "execution_count": 48,
   "metadata": {},
   "outputs": [],
   "source": [
    "X_train, X_test, y_train, y_test = train_test_split(X, y, random_state = 1234)"
   ]
  },
  {
   "cell_type": "markdown",
   "metadata": {},
   "source": [
    "# SAFE"
   ]
  },
  {
   "cell_type": "code",
   "execution_count": 49,
   "metadata": {},
   "outputs": [
    {
     "name": "stdout",
     "output_type": "stream",
     "text": [
      "0.7447916666666666\n"
     ]
    },
    {
     "name": "stderr",
     "output_type": "stream",
     "text": [
      "/home/alicja/anaconda3/lib/python3.7/site-packages/sklearn/linear_model/logistic.py:758: ConvergenceWarning: lbfgs failed to converge. Increase the number of iterations.\n",
      "  \"of iterations.\", ConvergenceWarning)\n"
     ]
    },
    {
     "data": {
      "text/plain": [
       "0.8138749854498893"
      ]
     },
     "execution_count": 49,
     "metadata": {},
     "output_type": "execute_result"
    }
   ],
   "source": [
    "logistic_model = LogisticRegression(solver = 'lbfgs')\n",
    "logistic_model = logistic_model.fit(X_train, y_train)\n",
    "standard_predictions = logistic_model.predict(X_test)\n",
    "print(accuracy_score(y_test, standard_predictions))\n",
    "\n",
    "pred = logistic_model.predict_proba(X_test)[:,1]\n",
    "fpr, tpr, thresholds = metrics.roc_curve(y_test, pred, pos_label=1)\n",
    "metrics.auc(fpr, tpr)"
   ]
  },
  {
   "cell_type": "code",
   "execution_count": 50,
   "metadata": {},
   "outputs": [
    {
     "name": "stdout",
     "output_type": "stream",
     "text": [
      "0.734375\n"
     ]
    },
    {
     "data": {
      "text/plain": [
       "0.8217902456058667"
      ]
     },
     "execution_count": 50,
     "metadata": {},
     "output_type": "execute_result"
    }
   ],
   "source": [
    "surrogate_model = GradientBoostingClassifier(random_state = 123                    )\n",
    "surrogate_model = surrogate_model.fit(X_train, y_train)\n",
    "surrogate_model_predictions = surrogate_model.predict(X_test)\n",
    "print(accuracy_score(y_test, surrogate_model_predictions))\n",
    "\n",
    "pred = surrogate_model.predict_proba(X_test)[:,1]\n",
    "fpr, tpr, thresholds = metrics.roc_curve(y_test, pred, pos_label=1)\n",
    "metrics.auc(fpr, tpr)"
   ]
  },
  {
   "cell_type": "code",
   "execution_count": 51,
   "metadata": {},
   "outputs": [
    {
     "name": "stdout",
     "output_type": "stream",
     "text": [
      "[0.01, 0.7291666666666666, 0.7902456058666046]\n",
      "[0.42625, 0.7708333333333334, 0.8384937725526714]\n",
      "[0.8425, 0.7708333333333334, 0.8175416133162613]\n",
      "[1.25875, 0.7604166666666666, 0.8125363752764521]\n",
      "[1.675, 0.7708333333333334, 0.8198114305668723]\n",
      "[2.0912499999999996, 0.7552083333333334, 0.7804097311139564]\n",
      "[2.5075, 0.7708333333333334, 0.7802351297869865]\n",
      "[2.92375, 0.7708333333333334, 0.7802351297869865]\n",
      "[3.34, 0.7708333333333334, 0.7802351297869863]\n",
      "[3.7562499999999996, 0.7708333333333334, 0.7802351297869863]\n",
      "[4.172499999999999, 0.7708333333333334, 0.7802351297869863]\n",
      "[4.58875, 0.7708333333333334, 0.7802351297869863]\n",
      "[5.005, 0.7708333333333334, 0.7802351297869863]\n",
      "[5.42125, 0.7708333333333334, 0.7802351297869863]\n",
      "[5.8375, 0.7708333333333334, 0.7802351297869863]\n",
      "[6.25375, 0.7708333333333334, 0.7802351297869863]\n",
      "[6.67, 0.7447916666666666, 0.7708066581306019]\n",
      "[7.08625, 0.7447916666666666, 0.7712722616691887]\n",
      "[7.5024999999999995, 0.7447916666666666, 0.7712722616691887]\n",
      "[7.91875, 0.7447916666666666, 0.7712722616691887]\n",
      "[8.334999999999999, 0.7395833333333334, 0.7698754510534279]\n",
      "[8.75125, 0.7395833333333334, 0.7698754510534279]\n",
      "[9.1675, 0.7395833333333334, 0.7698754510534279]\n",
      "[9.58375, 0.7395833333333334, 0.7698754510534279]\n",
      "[10.0, 0.7395833333333334, 0.7698754510534279]\n"
     ]
    }
   ],
   "source": [
    "pens = np.linspace(0.01, 10, 25)\n",
    "best_auc = float('-Inf')\n",
    "best_acc = float('-Inf')\n",
    "best_auc_pen = 0\n",
    "best_acc_pen = 0\n",
    "aucs = []\n",
    "accs = []\n",
    "\n",
    "for pen in pens:\n",
    "    surrogate_model = GradientBoostingClassifier(random_state = 123)\n",
    "    logistic_model_simple = LogisticRegression(solver = 'lbfgs')\n",
    "    safe_transformer = SafeTransformer(surrogate_model, penalty = pen)\n",
    "    pipe = Pipeline(steps=[('safe', safe_transformer), ('linear', logistic_model_simple)])\n",
    "    pipe = pipe.fit(X_train, y_train)\n",
    "    predictions = pipe.predict(X_test)\n",
    "    acc = accuracy_score(y_test, predictions)\n",
    "    accs.append(acc)\n",
    "    \n",
    "    pred = pipe.predict_proba(X_test)[:,1]\n",
    "    fpr, tpr, thresholds = metrics.roc_curve(y_test, pred, pos_label=1)\n",
    "    auc = metrics.auc(fpr, tpr)\n",
    "    aucs.append(auc)\n",
    "    \n",
    "    print([pen, acc, auc])\n",
    "    if acc > best_acc:\n",
    "        best_acc_transformer = deepcopy(safe_transformer)\n",
    "        best_acc_model = deepcopy(logistic_model_simple)\n",
    "        best_acc = acc\n",
    "        best_acc_pen = pen\n",
    "        \n",
    "    if auc > best_auc:\n",
    "        best_auc_transformer = deepcopy(safe_transformer)\n",
    "        best_auc_model = deepcopy(logistic_model_simple)\n",
    "        best_auc = auc\n",
    "        best_auc_pen = pen"
   ]
  },
  {
   "cell_type": "code",
   "execution_count": 52,
   "metadata": {},
   "outputs": [
    {
     "data": {
      "text/plain": [
       "0.8384937725526714"
      ]
     },
     "execution_count": 52,
     "metadata": {},
     "output_type": "execute_result"
    }
   ],
   "source": [
    "best_auc"
   ]
  },
  {
   "cell_type": "code",
   "execution_count": 53,
   "metadata": {},
   "outputs": [
    {
     "data": {
      "text/plain": [
       "0.7708333333333334"
      ]
     },
     "execution_count": 53,
     "metadata": {},
     "output_type": "execute_result"
    }
   ],
   "source": [
    "best_acc"
   ]
  },
  {
   "cell_type": "markdown",
   "metadata": {},
   "source": [
    "# SAFE trees"
   ]
  },
  {
   "cell_type": "code",
   "execution_count": 54,
   "metadata": {},
   "outputs": [
    {
     "name": "stdout",
     "output_type": "stream",
     "text": [
      "0.6875\n"
     ]
    },
    {
     "data": {
      "text/plain": [
       "0.6647654522174369"
      ]
     },
     "execution_count": 54,
     "metadata": {},
     "output_type": "execute_result"
    }
   ],
   "source": [
    "tree_model = DecisionTreeClassifier(random_state=123)\n",
    "tree_model = tree_model.fit(X_train, y_train)\n",
    "standard_predictions = tree_model.predict(X_test)\n",
    "print(accuracy_score(y_test, standard_predictions))\n",
    "\n",
    "pred = tree_model.predict_proba(X_test)[:,1]\n",
    "fpr, tpr, thresholds = metrics.roc_curve(y_test, pred, pos_label=1)\n",
    "metrics.auc(fpr, tpr)"
   ]
  },
  {
   "cell_type": "code",
   "execution_count": 55,
   "metadata": {},
   "outputs": [
    {
     "name": "stdout",
     "output_type": "stream",
     "text": [
      "0.734375\n"
     ]
    },
    {
     "data": {
      "text/plain": [
       "0.8217902456058667"
      ]
     },
     "execution_count": 55,
     "metadata": {},
     "output_type": "execute_result"
    }
   ],
   "source": [
    "surrogate_model = GradientBoostingClassifier(random_state = 123)\n",
    "surrogate_model = surrogate_model.fit(X_train, y_train)\n",
    "surrogate_model_predictions = surrogate_model.predict(X_test)\n",
    "print(accuracy_score(y_test, surrogate_model_predictions))\n",
    "\n",
    "pred = surrogate_model.predict_proba(X_test)[:,1]\n",
    "fpr, tpr, thresholds = metrics.roc_curve(y_test, pred, pos_label=1)\n",
    "metrics.auc(fpr, tpr)"
   ]
  },
  {
   "cell_type": "code",
   "execution_count": 56,
   "metadata": {},
   "outputs": [
    {
     "name": "stdout",
     "output_type": "stream",
     "text": [
      "[0.01, 0.640625, 0.6103480386450937]\n",
      "[0.42625, 0.6927083333333334, 0.7156326388080549]\n",
      "[0.8425, 0.6770833333333334, 0.6520195553486205]\n",
      "[1.25875, 0.6822916666666666, 0.6698288906995693]\n",
      "[1.675, 0.7552083333333334, 0.7626003957630076]\n",
      "[2.0912499999999996, 0.7552083333333334, 0.7426376440460948]\n",
      "[2.5075, 0.7604166666666666, 0.7453148643929693]\n",
      "[2.92375, 0.7604166666666666, 0.7453148643929693]\n",
      "[3.34, 0.7552083333333334, 0.7564893493190548]\n",
      "[3.7562499999999996, 0.7552083333333334, 0.7564893493190548]\n",
      "[4.172499999999999, 0.7552083333333334, 0.7564893493190548]\n",
      "[4.58875, 0.7552083333333334, 0.7564893493190548]\n",
      "[5.005, 0.7552083333333334, 0.7564893493190548]\n",
      "[5.42125, 0.7552083333333334, 0.7564893493190548]\n",
      "[5.8375, 0.7552083333333334, 0.7564893493190548]\n",
      "[6.25375, 0.7552083333333334, 0.7564893493190548]\n",
      "[6.67, 0.7291666666666666, 0.747177278547317]\n",
      "[7.08625, 0.71875, 0.7553253404725876]\n",
      "[7.5024999999999995, 0.71875, 0.7553253404725876]\n",
      "[7.91875, 0.71875, 0.7553253404725876]\n",
      "[8.334999999999999, 0.7395833333333334, 0.7674310324758469]\n",
      "[8.75125, 0.7395833333333334, 0.7674310324758469]\n",
      "[9.1675, 0.7395833333333334, 0.7674310324758469]\n",
      "[9.58375, 0.7395833333333334, 0.7674310324758469]\n",
      "[10.0, 0.7395833333333334, 0.7674310324758469]\n"
     ]
    }
   ],
   "source": [
    "pens = np.linspace(0.01, 10, 25)\n",
    "best_auc = float('-Inf')\n",
    "best_acc = float('-Inf')\n",
    "best_auc_pen = 0\n",
    "best_acc_pen = 0\n",
    "aucs = []\n",
    "accs = []\n",
    "\n",
    "for pen in pens:\n",
    "    surrogate_model = GradientBoostingClassifier(random_state = 123)\n",
    "    tree_model_simple = DecisionTreeClassifier(random_state = 123)\n",
    "    safe_transformer = SafeTransformer(surrogate_model, penalty = pen)\n",
    "    pipe = Pipeline(steps=[('safe', safe_transformer), ('tree', tree_model_simple)])\n",
    "    pipe = pipe.fit(X_train, y_train)\n",
    "    predictions = pipe.predict(X_test)\n",
    "    acc = accuracy_score(y_test, predictions)\n",
    "    accs.append(acc)\n",
    "    \n",
    "    pred = pipe.predict_proba(X_test)[:,1]\n",
    "    fpr, tpr, thresholds = metrics.roc_curve(y_test, pred, pos_label=1)\n",
    "    auc = metrics.auc(fpr, tpr)\n",
    "    aucs.append(auc)\n",
    "    \n",
    "    print([pen, acc, auc])\n",
    "    if acc > best_acc:\n",
    "        best_acc_transformer = deepcopy(safe_transformer)\n",
    "        best_acc_model = deepcopy(tree_model_simple)\n",
    "        best_acc = acc\n",
    "        best_acc_pen = pen\n",
    "        \n",
    "    if auc > best_auc:\n",
    "        best_auc_transformer = deepcopy(safe_transformer)\n",
    "        best_auc_model = deepcopy(tree_model_simple)\n",
    "        best_auc = auc\n",
    "        best_auc_pen = pen"
   ]
  },
  {
   "cell_type": "code",
   "execution_count": 57,
   "metadata": {},
   "outputs": [
    {
     "data": {
      "text/plain": [
       "[0.7604166666666666, 0.7674310324758469]"
      ]
     },
     "execution_count": 57,
     "metadata": {},
     "output_type": "execute_result"
    }
   ],
   "source": [
    "[best_acc, best_auc]"
   ]
  },
  {
   "cell_type": "code",
   "execution_count": null,
   "metadata": {},
   "outputs": [],
   "source": []
  }
 ],
 "metadata": {
  "kernelspec": {
   "display_name": "Python 3",
   "language": "python",
   "name": "python3"
  },
  "language_info": {
   "codemirror_mode": {
    "name": "ipython",
    "version": 3
   },
   "file_extension": ".py",
   "mimetype": "text/x-python",
   "name": "python",
   "nbconvert_exporter": "python",
   "pygments_lexer": "ipython3",
   "version": "3.7.1"
  }
 },
 "nbformat": 4,
 "nbformat_minor": 2
}
