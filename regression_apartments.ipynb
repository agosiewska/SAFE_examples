{
 "cells": [
  {
   "cell_type": "code",
   "execution_count": 17,
   "metadata": {},
   "outputs": [],
   "source": [
    "from SafeTransformer import SafeTransformer\n",
    "from sklearn.ensemble import GradientBoostingRegressor\n",
    "from sklearn.linear_model import LinearRegression\n",
    "import numpy as np\n",
    "import pandas as pd\n",
    "from sklearn.model_selection import train_test_split\n",
    "from sklearn.metrics import mean_squared_error\n",
    "from sklearn.pipeline import Pipeline\n",
    "import random\n",
    "import matplotlib.pyplot as plt"
   ]
  },
  {
   "cell_type": "code",
   "execution_count": 2,
   "metadata": {},
   "outputs": [],
   "source": [
    "apartments = pd.read_csv('apartments.csv', index_col=0)"
   ]
  },
  {
   "cell_type": "code",
   "execution_count": 4,
   "metadata": {},
   "outputs": [],
   "source": [
    "X_ap = apartments.drop(columns='m2.price')\n",
    "y = apartments['m2.price']"
   ]
  },
  {
   "cell_type": "code",
   "execution_count": 5,
   "metadata": {},
   "outputs": [],
   "source": [
    "X = X_ap.copy()\n",
    "colnames = list(X)\n",
    "for idx, name in enumerate(colnames):\n",
    "    if str(X.loc[:, name].dtype) in ['category', 'object']:\n",
    "        dummies = pd.get_dummies(X.loc[:, name], prefix=name, drop_first=True)\n",
    "        dummy_index  = X.columns.get_loc(name)\n",
    "        X = pd.concat([X.iloc[:,range(dummy_index)], dummies, X.iloc[:, range(dummy_index+1, len(X.columns))]], axis=1)"
   ]
  },
  {
   "cell_type": "code",
   "execution_count": 51,
   "metadata": {},
   "outputs": [],
   "source": [
    "X_train, X_test, X_lin_train, X_lin_test, y_train, y_test = train_test_split(X_ap, X, y, random_state =123)"
   ]
  },
  {
   "cell_type": "markdown",
   "metadata": {},
   "source": [
    "# SAFE"
   ]
  },
  {
   "cell_type": "code",
   "execution_count": 52,
   "metadata": {},
   "outputs": [
    {
     "data": {
      "text/plain": [
       "75683.04382573713"
      ]
     },
     "execution_count": 52,
     "metadata": {},
     "output_type": "execute_result"
    }
   ],
   "source": [
    "linear_model = LinearRegression()\n",
    "\n",
    "linear_model = linear_model.fit(X_lin_train, y_train)\n",
    "standard_predictions = linear_model.predict(X_lin_test)\n",
    "standard_predictions_error = mean_squared_error(y_test, standard_predictions)\n",
    "standard_predictions_error"
   ]
  },
  {
   "cell_type": "code",
   "execution_count": 53,
   "metadata": {},
   "outputs": [
    {
     "data": {
      "text/plain": [
       "9421.678062636085"
      ]
     },
     "execution_count": 53,
     "metadata": {},
     "output_type": "execute_result"
    }
   ],
   "source": [
    "surrogate_model = GradientBoostingRegressor(n_estimators=100,\n",
    "        max_depth=4,\n",
    "        learning_rate=0.1,\n",
    "        loss='huber', \n",
    "        random_state=123)\n",
    "surrogate_model = surrogate_model.fit(X_lin_train, y_train)\n",
    "surrogate_model_predictions = surrogate_model.predict(X_lin_test)\n",
    "surrogate_model_predictions_error = mean_squared_error(y_test, surrogate_model_predictions)\n",
    "surrogate_model_predictions_error"
   ]
  },
  {
   "cell_type": "code",
   "execution_count": 57,
   "metadata": {},
   "outputs": [
    {
     "name": "stdout",
     "output_type": "stream",
     "text": [
      "[0.01, 1226.4494460025637]\n",
      "[0.42625, 1221.1439725589419]\n",
      "[0.8425, 1213.8093534138357]\n",
      "[1.25875, 1222.5356868966792]\n",
      "[1.675, 1223.3542842423603]\n",
      "[2.0912499999999996, 1203.9436057655528]\n",
      "[2.5075, 1212.0728281572124]\n",
      "[2.92375, 1202.7903424580497]\n",
      "[3.34, 1193.3532434113338]\n",
      "[3.7562499999999996, 1197.2197142262958]\n",
      "[4.172499999999999, 1167.5207299540584]\n",
      "[4.58875, 1164.9099564365151]\n",
      "[5.005, 1164.5000542491505]\n",
      "[5.42125, 1166.8123720966678]\n",
      "[5.8375, 1188.7918492843594]\n",
      "[6.25375, 1188.7918492843594]\n",
      "[6.67, 1190.1063369259732]\n",
      "[7.08625, 1198.516855711671]\n",
      "[7.5024999999999995, 1203.9403351113915]\n",
      "[7.91875, 1206.0547930068567]\n",
      "[8.334999999999999, 1187.229376579732]\n",
      "[8.75125, 1191.908046232663]\n",
      "[9.1675, 1193.5724896039242]\n",
      "[9.58375, 1195.217718747794]\n",
      "[10.0, 1195.217718747794]\n"
     ]
    }
   ],
   "source": [
    "pens = np.linspace(0.01, 10, 25)\n",
    "best_score = float('Inf')\n",
    "best_pen = 0\n",
    "errors = [] \n",
    "\n",
    "for pen in pens:\n",
    "    surrogate_model = GradientBoostingRegressor(n_estimators=100,\n",
    "        max_depth=4,\n",
    "        learning_rate=0.1,\n",
    "        loss='huber', random_state = 123)\n",
    "    linear_model_simple = LinearRegression()\n",
    "    safe_transformer = SafeTransformer(surrogate_model, penalty = pen)\n",
    "    pipe = Pipeline(steps=[('safe', safe_transformer), ('linear', linear_model_simple)])\n",
    "    pipe = pipe.fit(X_train, y_train)\n",
    "    predictions = pipe.predict(X_test)\n",
    "    error = mean_squared_error(y_test, predictions)\n",
    "    errors.append(error)\n",
    "    print([pen, error])\n",
    "    if error < best_score:\n",
    "        best_score = error\n",
    "        best_pen = pen"
   ]
  },
  {
   "cell_type": "code",
   "execution_count": 58,
   "metadata": {},
   "outputs": [
    {
     "data": {
      "text/plain": [
       "1164.5000542491505"
      ]
     },
     "execution_count": 58,
     "metadata": {},
     "output_type": "execute_result"
    }
   ],
   "source": [
    "best_score"
   ]
  },
  {
   "cell_type": "markdown",
   "metadata": {},
   "source": [
    "# Plot"
   ]
  },
  {
   "cell_type": "code",
   "execution_count": 59,
   "metadata": {},
   "outputs": [
    {
     "data": {
      "image/png": "[encoded data removed]",
      "text/plain": [
       "<Figure size 864x576 with 1 Axes>"
      ]
     },
     "metadata": {
      "needs_background": "light"
     },
     "output_type": "display_data"
    }
   ],
   "source": [
    "standard_error = mean_squared_error(y_test, standard_predictions)\n",
    "xgb_error = mean_squared_error(y_test, surrogate_model_predictions)\n",
    "plt.rcParams['figure.figsize'] = [12, 8]\n",
    "plt.rcParams.update({'font.size': 14})\n",
    "plt.plot(pens[1:], errors[1:], label='Surrogated Linear Regression')\n",
    "plt.xlabel('Penalty')\n",
    "plt.ylabel('MSE')\n",
    "plt.grid(True)\n",
    "plt.axhline(standard_error, color='r', label='Standard Linear Regression')\n",
    "plt.axhline(xgb_error, color='g', label='Gradient Boosting Regressor')\n",
    "plt.ylim((0, max(max(errors[1:])+5000, standard_error+5000)))\n",
    "plt.legend()\n",
    "plt.show()"
   ]
  },
  {
   "cell_type": "code",
   "execution_count": null,
   "metadata": {},
   "outputs": [],
   "source": []
  }
 ],
 "metadata": {
  "kernelspec": {
   "display_name": "Python 3",
   "language": "python",
   "name": "python3"
  },
  "language_info": {
   "codemirror_mode": {
    "name": "ipython",
    "version": 3
   },
   "file_extension": ".py",
   "mimetype": "text/x-python",
   "name": "python",
   "nbconvert_exporter": "python",
   "pygments_lexer": "ipython3",
   "version": "3.7.1"
  }
 },
 "nbformat": 4,
 "nbformat_minor": 2
}
